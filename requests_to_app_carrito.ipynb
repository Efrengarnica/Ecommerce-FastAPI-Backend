{
 "cells": [
  {
   "cell_type": "markdown",
   "metadata": {},
   "source": [
    "# Peticiones a Cart"
   ]
  },
  {
   "cell_type": "code",
   "execution_count": 1,
   "metadata": {},
   "outputs": [
    {
     "name": "stdout",
     "output_type": "stream",
     "text": [
      "200\n",
      "{\"id\":\"f021e1ec-aee1-46a8-a4be-e9e4bf38123d\",\"user_id\":\"5af577c9-38e0-4706-b056-f3c0f84f4808\",\"items\":[]}\n",
      "{'id': 'f021e1ec-aee1-46a8-a4be-e9e4bf38123d', 'user_id': '5af577c9-38e0-4706-b056-f3c0f84f4808', 'items': []}\n"
     ]
    }
   ],
   "source": [
    "\n",
    "# POST para Cart\n",
    "\n",
    "# Haciendo requests a nuestra API\n",
    "#Parece ser que esto hace que se pueda hacer una peticion http sin postman.\n",
    "#Request como postman pero sin la interfaz grafica, NO es nativa de puthon pero se intala con\n",
    "#       pip install requests\n",
    "#En mi codigo se permite que un usuario tenga varios carritos, hay que checar si eso es malo.\n",
    "\n",
    "## Request permite como postman enviar mas cosas ademas de cuerpo de la solicitud como headers params etc, aqui no ocupe mas que el cuerpo de la sol.\n",
    "import requests\n",
    "# Necesitas un usuario registrado y conoces su UUID\n",
    "user_id = \"5af577c9-38e0-4706-b056-f3c0f84f4808\"  \n",
    "cart_data = {\n",
    "    \"user_id\": user_id\n",
    "}\n",
    "response = requests.post(\"http://localhost:8001/carts/\", json = cart_data)\n",
    "print(response.status_code)\n",
    "print(response.text)\n",
    "if response.status_code == 200:\n",
    "    print(response.json())"
   ]
  },
  {
   "cell_type": "code",
   "execution_count": 2,
   "metadata": {},
   "outputs": [
    {
     "name": "stdout",
     "output_type": "stream",
     "text": [
      "200\n",
      "{\"id\":\"f26da02d-4bea-4079-a887-3048663adbcc\",\"user_id\":\"e092b991-90a2-459a-b2d8-351bc91a2e3f\",\"items\":[]}\n",
      "{'id': 'f26da02d-4bea-4079-a887-3048663adbcc', 'user_id': 'e092b991-90a2-459a-b2d8-351bc91a2e3f', 'items': []}\n"
     ]
    }
   ],
   "source": [
    "# POST para Cart, otro cart\n",
    "\n",
    "# Haciendo requests a nuestra API\n",
    "#Parece ser que esto hace que se pueda hacer una peticion http sin postman\n",
    "import requests\n",
    "# Necesitas un usuario registrado y conoces su UUID\n",
    "user_id = \"e092b991-90a2-459a-b2d8-351bc91a2e3f\"  \n",
    "cart_data = {\n",
    "    \"user_id\": user_id\n",
    "}\n",
    "response = requests.post(\"http://localhost:8001/carts/\", json = cart_data)\n",
    "print(response.status_code)\n",
    "print(response.text)\n",
    "if response.status_code == 200:\n",
    "    print(response.json())"
   ]
  },
  {
   "cell_type": "code",
   "execution_count": 5,
   "metadata": {},
   "outputs": [
    {
     "name": "stdout",
     "output_type": "stream",
     "text": [
      "200\n",
      "[{\"id\":\"3fc7185a-c65e-434e-9a11-0562e88a5712\",\"user_id\":\"9665d87f-9557-4e47-bf12-75a5cfa134dc\",\"items\":[{\"id\":\"3a2576df-99ef-487f-b01e-d05af6d46af3\",\"cart_id\":\"3fc7185a-c65e-434e-9a11-0562e88a5712\",\"product_id\":3,\"quantity\":1,\"product\":{\"id\":3,\"name\":\"Camisa Italiana\",\"price\":700.0,\"category\":\"Hombre\",\"image\":\"https://res.cloudinary.com/dfe12pm1m/image/upload/v1743534452/icgsiltibvm56lixvkqt.jpg\"}},{\"id\":\"5183c4d2-e9be-449e-ab41-57adfcfb0e8c\",\"cart_id\":\"3fc7185a-c65e-434e-9a11-0562e88a5712\",\"product_id\":2,\"quantity\":1,\"product\":{\"id\":2,\"name\":\"Pantalones Chinos\",\"price\":600.0,\"category\":\"Hombre\",\"image\":\"https://res.cloudinary.com/dfe12pm1m/image/upload/v1743534447/gbyzerzo3tcezzrw8tlw.jpg\"}},{\"id\":\"d11b8262-31f2-4524-a452-90cfcad0018d\",\"cart_id\":\"3fc7185a-c65e-434e-9a11-0562e88a5712\",\"product_id\":3,\"quantity\":1,\"product\":{\"id\":3,\"name\":\"Camisa Italiana\",\"price\":700.0,\"category\":\"Hombre\",\"image\":\"https://res.cloudinary.com/dfe12pm1m/image/upload/v1743534452/icgsiltibvm56lixvkqt.jpg\"}},{\"id\":\"947b010c-1646-432e-9454-e818021beeaa\",\"cart_id\":\"3fc7185a-c65e-434e-9a11-0562e88a5712\",\"product_id\":1,\"quantity\":1,\"product\":{\"id\":1,\"name\":\"Camisa Oxford\",\"price\":500.0,\"category\":\"Hombre\",\"image\":\"https://res.cloudinary.com/dfe12pm1m/image/upload/v1743534440/uh3kgyfvwbnjmiydhcjx.jpg\"}},{\"id\":\"5a324dc8-11b3-42da-bf48-aafc70a19912\",\"cart_id\":\"3fc7185a-c65e-434e-9a11-0562e88a5712\",\"product_id\":1,\"quantity\":1,\"product\":{\"id\":1,\"name\":\"Camisa Oxford\",\"price\":500.0,\"category\":\"Hombre\",\"image\":\"https://res.cloudinary.com/dfe12pm1m/image/upload/v1743534440/uh3kgyfvwbnjmiydhcjx.jpg\"}}]}]\n",
      "[{'id': '3fc7185a-c65e-434e-9a11-0562e88a5712', 'user_id': '9665d87f-9557-4e47-bf12-75a5cfa134dc', 'items': [{'id': '3a2576df-99ef-487f-b01e-d05af6d46af3', 'cart_id': '3fc7185a-c65e-434e-9a11-0562e88a5712', 'product_id': 3, 'quantity': 1, 'product': {'id': 3, 'name': 'Camisa Italiana', 'price': 700.0, 'category': 'Hombre', 'image': 'https://res.cloudinary.com/dfe12pm1m/image/upload/v1743534452/icgsiltibvm56lixvkqt.jpg'}}, {'id': '5183c4d2-e9be-449e-ab41-57adfcfb0e8c', 'cart_id': '3fc7185a-c65e-434e-9a11-0562e88a5712', 'product_id': 2, 'quantity': 1, 'product': {'id': 2, 'name': 'Pantalones Chinos', 'price': 600.0, 'category': 'Hombre', 'image': 'https://res.cloudinary.com/dfe12pm1m/image/upload/v1743534447/gbyzerzo3tcezzrw8tlw.jpg'}}, {'id': 'd11b8262-31f2-4524-a452-90cfcad0018d', 'cart_id': '3fc7185a-c65e-434e-9a11-0562e88a5712', 'product_id': 3, 'quantity': 1, 'product': {'id': 3, 'name': 'Camisa Italiana', 'price': 700.0, 'category': 'Hombre', 'image': 'https://res.cloudinary.com/dfe12pm1m/image/upload/v1743534452/icgsiltibvm56lixvkqt.jpg'}}, {'id': '947b010c-1646-432e-9454-e818021beeaa', 'cart_id': '3fc7185a-c65e-434e-9a11-0562e88a5712', 'product_id': 1, 'quantity': 1, 'product': {'id': 1, 'name': 'Camisa Oxford', 'price': 500.0, 'category': 'Hombre', 'image': 'https://res.cloudinary.com/dfe12pm1m/image/upload/v1743534440/uh3kgyfvwbnjmiydhcjx.jpg'}}, {'id': '5a324dc8-11b3-42da-bf48-aafc70a19912', 'cart_id': '3fc7185a-c65e-434e-9a11-0562e88a5712', 'product_id': 1, 'quantity': 1, 'product': {'id': 1, 'name': 'Camisa Oxford', 'price': 500.0, 'category': 'Hombre', 'image': 'https://res.cloudinary.com/dfe12pm1m/image/upload/v1743534440/uh3kgyfvwbnjmiydhcjx.jpg'}}]}]\n"
     ]
    }
   ],
   "source": [
    "# GET para Carts\n",
    "\n",
    "# Obtener todos los cart\n",
    "response = requests.get(\"http://localhost:8001/carts/\")\n",
    "print(response.status_code)\n",
    "print(response.text)\n",
    "if response.status_code == 200:\n",
    "    products = response.json()\n",
    "    print(products)"
   ]
  },
  {
   "cell_type": "code",
   "execution_count": 4,
   "metadata": {},
   "outputs": [
    {
     "name": "stdout",
     "output_type": "stream",
     "text": [
      "404\n",
      "{\"detail\":\"Cart with ID 04b7b6f2-7b82-4bd9-a513-02e719ae103b not found.\"}\n"
     ]
    }
   ],
   "source": [
    "# GET para Cart\n",
    "\n",
    "# Obtener un cart por si id\n",
    "#Aqui a difrencia de conseguir todos los carts ya aprece los items asociados al cart ya que en el código\n",
    "#decidi que solo renderice los items cuando se manda a llamar a un solo cart\n",
    "response = requests.get(\"http://localhost:8001/carts/04b7b6f2-7b82-4bd9-a513-02e719ae103b\")\n",
    "print(response.status_code)\n",
    "print(response.text)"
   ]
  },
  {
   "cell_type": "code",
   "execution_count": 5,
   "metadata": {},
   "outputs": [
    {
     "name": "stdout",
     "output_type": "stream",
     "text": [
      "200\n",
      "{\"id\":\"04b7b6f2-7b82-4bd9-a513-02e719ae103a\",\"user_id\":\"af0b808b-2e0d-44f6-90ee-5a53d03164c7\",\"items\":[]}\n"
     ]
    }
   ],
   "source": [
    "# DELETE para Cart\n",
    "\n",
    "#Elimitar cart por id\n",
    "response = requests.delete(\"http://localhost:8001/carts/04b7b6f2-7b82-4bd9-a513-02e719ae103a\")\n",
    "print(response.status_code)\n",
    "print(response.text)"
   ]
  },
  {
   "cell_type": "code",
   "execution_count": 22,
   "metadata": {},
   "outputs": [
    {
     "name": "stdout",
     "output_type": "stream",
     "text": [
      "200\n",
      "{\"id\":\"3fc7185a-c65e-434e-9a11-0562e88a5712\",\"user_id\":\"9665d87f-9557-4e47-bf12-75a5cfa134dc\",\"items\":[]}\n"
     ]
    }
   ],
   "source": [
    "# DELETE para todos los items del cart\n",
    "\n",
    "#Elimitar cart por id\n",
    "response = requests.delete(\"http://localhost:8001/carts/3fc7185a-c65e-434e-9a11-0562e88a5712/clear\")\n",
    "print(response.status_code)\n",
    "print(response.text)"
   ]
  },
  {
   "cell_type": "markdown",
   "metadata": {},
   "source": [
    "# Peticiones a CarritoItem\n"
   ]
  },
  {
   "cell_type": "code",
   "execution_count": 2,
   "metadata": {},
   "outputs": [
    {
     "name": "stdout",
     "output_type": "stream",
     "text": [
      "200\n",
      "{\"id\":\"5219804b-cd0d-476a-9e9b-9628969cf1cd\",\"cart_id\":\"47b8af44-899b-4185-9813-efa8ff2cc83d\",\"product_id\":1,\"quantity\":5}\n",
      "{'id': '5219804b-cd0d-476a-9e9b-9628969cf1cd', 'cart_id': '47b8af44-899b-4185-9813-efa8ff2cc83d', 'product_id': 1, 'quantity': 5}\n"
     ]
    }
   ],
   "source": [
    "# POST para CartItem\n",
    "\n",
    "#Requieres un carrito que ya exista y un producto que ya exista, rquieres sus ids\n",
    "cart_id = \"47b8af44-899b-4185-9813-efa8ff2cc83d\" \n",
    "product_id = 1\n",
    "cart_item_data = {\n",
    "    \"cart_id\": cart_id,\n",
    "    \"product_id\" : product_id,\n",
    "    \"quantity\": 5\n",
    "}\n",
    "response = requests.post(\"http://localhost:8001/carts/items/\", json = cart_item_data)\n",
    "print(response.status_code)\n",
    "print(response.text)\n",
    "if response.status_code == 200:\n",
    "    print(response.json())"
   ]
  },
  {
   "cell_type": "code",
   "execution_count": 2,
   "metadata": {},
   "outputs": [
    {
     "name": "stdout",
     "output_type": "stream",
     "text": [
      "200\n",
      "{\"id\":\"3a2576df-99ef-487f-b01e-d05af6d46af3\",\"cart_id\":\"3fc7185a-c65e-434e-9a11-0562e88a5712\",\"product_id\":3,\"quantity\":1}\n",
      "{'id': '3a2576df-99ef-487f-b01e-d05af6d46af3', 'cart_id': '3fc7185a-c65e-434e-9a11-0562e88a5712', 'product_id': 3, 'quantity': 1}\n"
     ]
    }
   ],
   "source": [
    "# POST para CartItem\n",
    "\n",
    "#Requieres un carrito que ya exista y un producto que ya exista, rquieres sus ids\n",
    "cart_id = \"3fc7185a-c65e-434e-9a11-0562e88a5712\"  # Ejemplo de UUID\n",
    "product_id = 3\n",
    "cart_item_data = {\n",
    "    \"cart_id\": cart_id,\n",
    "    \"product_id\" : product_id\n",
    "}\n",
    "response = requests.post(\"http://localhost:8001/carts/items/\", json = cart_item_data)\n",
    "print(response.status_code)\n",
    "print(response.text)\n",
    "if response.status_code == 200:\n",
    "    print(response.json())"
   ]
  },
  {
   "cell_type": "code",
   "execution_count": 19,
   "metadata": {},
   "outputs": [
    {
     "name": "stdout",
     "output_type": "stream",
     "text": [
      "200\n",
      "{\"id\":\"9809eb8c-a2cd-43af-a6ed-e6a3a02eeb19\",\"cart_id\":\"3fc7185a-c65e-434e-9a11-0562e88a5712\",\"product_id\":2,\"quantity\":3,\"product\":{\"id\":2,\"name\":\"Pantalones Chinos\",\"price\":600.0,\"category\":\"Hombre\",\"image\":\"https://res.cloudinary.com/dfe12pm1m/image/upload/v1743534447/gbyzerzo3tcezzrw8tlw.jpg\"}}\n"
     ]
    }
   ],
   "source": [
    "# DELETE para CartItem\n",
    "\n",
    "#Elimitar cartItem por id\n",
    "# Aqui se necesita el id del carrito y el id del carritoItem\n",
    "response = requests.delete(\"http://localhost:8001/carts/items/9809eb8c-a2cd-43af-a6ed-e6a3a02eeb19\")\n",
    "print(response.status_code)\n",
    "print(response.text)"
   ]
  },
  {
   "cell_type": "code",
   "execution_count": 10,
   "metadata": {},
   "outputs": [
    {
     "name": "stdout",
     "output_type": "stream",
     "text": [
      "200\n",
      "{\"id\":\"095bb073-7061-4b39-b3d6-8a4773c178a3\",\"cart_id\":\"f26da02d-4bea-4079-a887-3048663adbcc\",\"product_id\":1,\"quantity\":100}\n"
     ]
    }
   ],
   "source": [
    "# PATCH para CarritoItem \n",
    "\n",
    "# Aqui con el patch decidi solo poder modificar la cantidad de ese producto\n",
    "# Requieres la data, la cantidad del producto, el id del carrito y el id del carritoItem\n",
    "data = {\n",
    "    \"quantity\": 100\n",
    "}\n",
    "response = requests.patch(\"http://localhost:8001/carts/items/095bb073-7061-4b39-b3d6-8a4773c178a3\", json = data)\n",
    "print(response.status_code)\n",
    "print(response.text)"
   ]
  }
 ],
 "metadata": {
  "kernelspec": {
   "display_name": "Python 3",
   "language": "python",
   "name": "python3"
  },
  "language_info": {
   "codemirror_mode": {
    "name": "ipython",
    "version": 3
   },
   "file_extension": ".py",
   "mimetype": "text/x-python",
   "name": "python",
   "nbconvert_exporter": "python",
   "pygments_lexer": "ipython3",
   "version": "3.12.8"
  }
 },
 "nbformat": 4,
 "nbformat_minor": 2
}
