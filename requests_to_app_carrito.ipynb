{
 "cells": [
  {
   "cell_type": "markdown",
   "metadata": {},
   "source": [
    "# Peticiones a Cart"
   ]
  },
  {
   "cell_type": "code",
   "execution_count": 1,
   "metadata": {},
   "outputs": [
    {
     "name": "stdout",
     "output_type": "stream",
     "text": [
      "200\n",
      "{\"id\":\"04b7b6f2-7b82-4bd9-a513-02e719ae103a\",\"user_id\":\"af0b808b-2e0d-44f6-90ee-5a53d03164c7\",\"items\":[]}\n",
      "{'id': '04b7b6f2-7b82-4bd9-a513-02e719ae103a', 'user_id': 'af0b808b-2e0d-44f6-90ee-5a53d03164c7', 'items': []}\n"
     ]
    }
   ],
   "source": [
    "\n",
    "# POST para Cart\n",
    "\n",
    "# Haciendo requests a nuestra API\n",
    "#Parece ser que esto hace que se pueda hacer una peticion http sin postman.\n",
    "#Request como postman pero sin la interfaz grafica, NO es nativa de puthon pero se intala con\n",
    "#       pip install requests\n",
    "#En mi codigo se permite que un usuario tenga varios carritos, hay que checar si eso es malo.\n",
    "\n",
    "## Request permite como postman enviar mas cosas ademas de cuerpo de la solicitud como headers params etc, aqui no ocupe mas que el cuerpo de la sol.\n",
    "import requests\n",
    "# Necesitas un usuario registrado y conoces su UUID\n",
    "user_id = \"af0b808b-2e0d-44f6-90ee-5a53d03164c7\"  \n",
    "cart_data = {\n",
    "    \"user_id\": user_id\n",
    "}\n",
    "response = requests.post(\"http://localhost:8001/carts/\", json = cart_data)\n",
    "print(response.status_code)\n",
    "print(response.text)\n",
    "if response.status_code == 200:\n",
    "    print(response.json())"
   ]
  },
  {
   "cell_type": "code",
   "execution_count": 2,
   "metadata": {},
   "outputs": [
    {
     "name": "stdout",
     "output_type": "stream",
     "text": [
      "200\n",
      "{\"id\":\"f26da02d-4bea-4079-a887-3048663adbcc\",\"user_id\":\"e092b991-90a2-459a-b2d8-351bc91a2e3f\",\"items\":[]}\n",
      "{'id': 'f26da02d-4bea-4079-a887-3048663adbcc', 'user_id': 'e092b991-90a2-459a-b2d8-351bc91a2e3f', 'items': []}\n"
     ]
    }
   ],
   "source": [
    "# POST para Cart, otro cart\n",
    "\n",
    "# Haciendo requests a nuestra API\n",
    "#Parece ser que esto hace que se pueda hacer una peticion http sin postman\n",
    "import requests\n",
    "# Necesitas un usuario registrado y conoces su UUID\n",
    "user_id = \"e092b991-90a2-459a-b2d8-351bc91a2e3f\"  \n",
    "cart_data = {\n",
    "    \"user_id\": user_id\n",
    "}\n",
    "response = requests.post(\"http://localhost:8001/carts/\", json = cart_data)\n",
    "print(response.status_code)\n",
    "print(response.text)\n",
    "if response.status_code == 200:\n",
    "    print(response.json())"
   ]
  },
  {
   "cell_type": "code",
   "execution_count": 3,
   "metadata": {},
   "outputs": [
    {
     "name": "stdout",
     "output_type": "stream",
     "text": [
      "200\n",
      "[{\"id\":\"04b7b6f2-7b82-4bd9-a513-02e719ae103a\",\"user_id\":\"af0b808b-2e0d-44f6-90ee-5a53d03164c7\",\"items\":[]},{\"id\":\"f26da02d-4bea-4079-a887-3048663adbcc\",\"user_id\":\"e092b991-90a2-459a-b2d8-351bc91a2e3f\",\"items\":[]}]\n",
      "[{'id': '04b7b6f2-7b82-4bd9-a513-02e719ae103a', 'user_id': 'af0b808b-2e0d-44f6-90ee-5a53d03164c7', 'items': []}, {'id': 'f26da02d-4bea-4079-a887-3048663adbcc', 'user_id': 'e092b991-90a2-459a-b2d8-351bc91a2e3f', 'items': []}]\n"
     ]
    }
   ],
   "source": [
    "# GET para Carts\n",
    "\n",
    "# Obtener todos los cart\n",
    "response = requests.get(\"http://localhost:8001/carts/\")\n",
    "print(response.status_code)\n",
    "print(response.text)\n",
    "if response.status_code == 200:\n",
    "    products = response.json()\n",
    "    print(products)"
   ]
  },
  {
   "cell_type": "code",
   "execution_count": 11,
   "metadata": {},
   "outputs": [
    {
     "name": "stdout",
     "output_type": "stream",
     "text": [
      "404\n",
      "{\"detail\":\"Cart with ID 04b7b6f2-7b82-4bd9-a513-02e719ae103b not found.\"}\n"
     ]
    }
   ],
   "source": [
    "# GET para Cart\n",
    "\n",
    "# Obtener un cart por si id\n",
    "#Aqui a difrencia de conseguir todos los carts ya aprece los items asociados al cart ya que en el código\n",
    "#decidi que solo renderice los items cuando se manda a llamar a un solo cart\n",
    "response = requests.get(\"http://localhost:8001/carts/04b7b6f2-7b82-4bd9-a513-02e719ae103b\")\n",
    "print(response.status_code)\n",
    "print(response.text)"
   ]
  },
  {
   "cell_type": "code",
   "execution_count": 5,
   "metadata": {},
   "outputs": [
    {
     "name": "stdout",
     "output_type": "stream",
     "text": [
      "200\n",
      "{\"id\":\"04b7b6f2-7b82-4bd9-a513-02e719ae103a\",\"user_id\":\"af0b808b-2e0d-44f6-90ee-5a53d03164c7\",\"items\":[]}\n"
     ]
    }
   ],
   "source": [
    "# DELETE para Cart\n",
    "\n",
    "#Elimitar cart por id\n",
    "response = requests.delete(\"http://localhost:8001/carts/04b7b6f2-7b82-4bd9-a513-02e719ae103a\")\n",
    "print(response.status_code)\n",
    "print(response.text)"
   ]
  },
  {
   "cell_type": "markdown",
   "metadata": {},
   "source": [
    "# Peticiones a CarritoItem\n"
   ]
  },
  {
   "cell_type": "code",
   "execution_count": 13,
   "metadata": {},
   "outputs": [
    {
     "name": "stdout",
     "output_type": "stream",
     "text": [
      "404\n",
      "{\"detail\":\"Product with ID 100 not found.\"}\n"
     ]
    }
   ],
   "source": [
    "# POST para CartItem\n",
    "\n",
    "#Requieres un carrito que ya exista y un producto que ya exista, rquieres sus ids\n",
    "cart_id = \"f26da02d-4bea-4079-a887-3048663adbcc\" \n",
    "product_id = 100\n",
    "cart_item_data = {\n",
    "    \"cart_id\": cart_id,\n",
    "    \"product_id\" : product_id,\n",
    "    \"quantity\": 5\n",
    "}\n",
    "response = requests.post(\"http://localhost:8001/carts/items/\", json = cart_item_data)\n",
    "print(response.status_code)\n",
    "print(response.text)\n",
    "if response.status_code == 200:\n",
    "    print(response.json())"
   ]
  },
  {
   "cell_type": "code",
   "execution_count": 8,
   "metadata": {},
   "outputs": [
    {
     "name": "stdout",
     "output_type": "stream",
     "text": [
      "200\n",
      "{\"id\":\"73a6798c-2783-4cf9-acf4-750aab3e78ac\",\"cart_id\":\"f26da02d-4bea-4079-a887-3048663adbcc\",\"product_id\":3,\"quantity\":1}\n",
      "{'id': '73a6798c-2783-4cf9-acf4-750aab3e78ac', 'cart_id': 'f26da02d-4bea-4079-a887-3048663adbcc', 'product_id': 3, 'quantity': 1}\n"
     ]
    }
   ],
   "source": [
    "# POST para CartItem\n",
    "\n",
    "#Requieres un carrito que ya exista y un producto que ya exista, rquieres sus ids\n",
    "cart_id = \"f26da02d-4bea-4079-a887-3048663adbcc\"  # Ejemplo de UUID\n",
    "product_id = 3\n",
    "cart_item_data = {\n",
    "    \"cart_id\": cart_id,\n",
    "    \"product_id\" : product_id\n",
    "}\n",
    "response = requests.post(\"http://localhost:8001/carts/items/\", json = cart_item_data)\n",
    "print(response.status_code)\n",
    "print(response.text)\n",
    "if response.status_code == 200:\n",
    "    print(response.json())"
   ]
  },
  {
   "cell_type": "code",
   "execution_count": 12,
   "metadata": {},
   "outputs": [
    {
     "name": "stdout",
     "output_type": "stream",
     "text": [
      "404\n",
      "{\"detail\":\"Cart item with ID 73a6798c-2783-4cf9-acf4-750aab3e78ab not found.\"}\n"
     ]
    }
   ],
   "source": [
    "# DELETE para CartItem\n",
    "\n",
    "#Elimitar cartItem por id\n",
    "# Aqui se necesita el id del carrito y el id del carritoItem\n",
    "response = requests.delete(\"http://localhost:8001/carts/items/73a6798c-2783-4cf9-acf4-750aab3e78ab\")\n",
    "print(response.status_code)\n",
    "print(response.text)"
   ]
  },
  {
   "cell_type": "code",
   "execution_count": 10,
   "metadata": {},
   "outputs": [
    {
     "name": "stdout",
     "output_type": "stream",
     "text": [
      "200\n",
      "{\"id\":\"095bb073-7061-4b39-b3d6-8a4773c178a3\",\"cart_id\":\"f26da02d-4bea-4079-a887-3048663adbcc\",\"product_id\":1,\"quantity\":100}\n"
     ]
    }
   ],
   "source": [
    "# PATCH para CarritoItem \n",
    "\n",
    "# Aqui con el patch decidi solo poder modificar la cantidad de ese producto\n",
    "# Requieres la data, la cantidad del producto, el id del carrito y el id del carritoItem\n",
    "data = {\n",
    "    \"quantity\": 100\n",
    "}\n",
    "response = requests.patch(\"http://localhost:8001/carts/items/095bb073-7061-4b39-b3d6-8a4773c178a3\", json = data)\n",
    "print(response.status_code)\n",
    "print(response.text)"
   ]
  }
 ],
 "metadata": {
  "kernelspec": {
   "display_name": "Python 3",
   "language": "python",
   "name": "python3"
  },
  "language_info": {
   "codemirror_mode": {
    "name": "ipython",
    "version": 3
   },
   "file_extension": ".py",
   "mimetype": "text/x-python",
   "name": "python",
   "nbconvert_exporter": "python",
   "pygments_lexer": "ipython3",
   "version": "3.12.8"
  }
 },
 "nbformat": 4,
 "nbformat_minor": 2
}
