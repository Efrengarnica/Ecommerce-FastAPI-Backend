{
 "cells": [
  {
   "cell_type": "markdown",
   "metadata": {},
   "source": [
    "# Peticiones a Cart"
   ]
  },
  {
   "cell_type": "code",
   "execution_count": null,
   "metadata": {},
   "outputs": [],
   "source": [
    "\n",
    "# POST para Cart\n",
    "\n",
    "# Haciendo requests a nuestra API\n",
    "#Parece ser que esto hace que se pueda hacer una peticion http sin postman.\n",
    "#Request como postman pero sin la interfaz grafica, NO es nativa de puthon pero se intala con\n",
    "#       pip install requests\n",
    "#En mi codigo se permite que un usuario tenga varios carritos, hay que checar si eso es malo.\n",
    "\n",
    "## Request permite como postman enviar mas cosas ademas de cuerpo de la solicitud como headers params etc, aqui no ocupe mas que el cuerpo de la sol.\n",
    "import requests\n",
    "# Necesitas un usuario registrado y conoces su UUID\n",
    "user_id = \"516b848d-c806-4570-8039-30d2898d2f29\"  \n",
    "cart_data = {\n",
    "    \"user_id\": user_id\n",
    "}\n",
    "response = requests.post(\"http://localhost:8001/carts/\", json = cart_data)\n",
    "print(response.status_code)\n",
    "print(response.text)\n",
    "if response.status_code == 200:\n",
    "    print(response.json())"
   ]
  },
  {
   "cell_type": "code",
   "execution_count": null,
   "metadata": {},
   "outputs": [],
   "source": [
    "# POST para Cart, otro cart\n",
    "\n",
    "# Haciendo requests a nuestra API\n",
    "#Parece ser que esto hace que se pueda hacer una peticion http sin postman\n",
    "import requests\n",
    "# Necesitas un usuario registrado y conoces su UUID\n",
    "user_id = \"d0992d69-b41b-45ef-afc1-f3f4954e4830\"  \n",
    "cart_data = {\n",
    "    \"user_id\": user_id\n",
    "}\n",
    "response = requests.post(\"http://localhost:8001/carts/\", json = cart_data)\n",
    "print(response.status_code)\n",
    "print(response.text)\n",
    "if response.status_code == 200:\n",
    "    print(response.json())"
   ]
  },
  {
   "cell_type": "code",
   "execution_count": null,
   "metadata": {},
   "outputs": [],
   "source": [
    "# GET para Carts\n",
    "\n",
    "# Obtener todos los cart\n",
    "response = requests.get(\"http://localhost:8001/carts/\")\n",
    "print(response.status_code)\n",
    "print(response.text)\n",
    "if response.status_code == 200:\n",
    "    products = response.json()\n",
    "    print(products)"
   ]
  },
  {
   "cell_type": "code",
   "execution_count": null,
   "metadata": {},
   "outputs": [],
   "source": [
    "# GET para Cart\n",
    "\n",
    "# Obtener un cart por si id\n",
    "#Aqui a difrencia de conseguir todos los carts ya aprece los items asociados al cart ya que en el código\n",
    "#decidi que solo renderice los items cuando se manda a llamar a un solo cart\n",
    "response = requests.get(\"http://localhost:8001/carts/9846d28d-1567-48a0-9d05-02cf4d2b8de4\")\n",
    "print(response.status_code)\n",
    "print(response.text)"
   ]
  },
  {
   "cell_type": "code",
   "execution_count": null,
   "metadata": {},
   "outputs": [],
   "source": [
    "# DELETE para Cart\n",
    "\n",
    "#Elimitar cart por id\n",
    "response = requests.delete(\"http://localhost:8001/carts/a91fc109-32b1-4fc1-a206-9e437cd97239\")\n",
    "print(response.status_code)\n",
    "print(response.text)"
   ]
  },
  {
   "cell_type": "markdown",
   "metadata": {},
   "source": [
    "# Peticiones a CarritoItem\n"
   ]
  },
  {
   "cell_type": "code",
   "execution_count": null,
   "metadata": {},
   "outputs": [],
   "source": [
    "# POST para CartItem\n",
    "\n",
    "#Requieres un carrito que ya exista y un producto que ya exista, rquieres sus ids\n",
    "cart_id = \"9846d28d-1567-48a0-9d05-02cf4d2b8de4\" \n",
    "product_id = 1\n",
    "cart_item_data = {\n",
    "    \"cart_id\": cart_id,\n",
    "    \"product_id\" : product_id\n",
    "}\n",
    "response = requests.post(\"http://localhost:8001/carts/9846d28d-1567-48a0-9d05-02cf4d2b8de4/items/\", json = cart_item_data)\n",
    "print(response.status_code)\n",
    "print(response.text)\n",
    "if response.status_code == 200:\n",
    "    print(response.json())"
   ]
  },
  {
   "cell_type": "code",
   "execution_count": null,
   "metadata": {},
   "outputs": [],
   "source": [
    "# POST para CartItem\n",
    "\n",
    "#Requieres un carrito que ya exista y un producto que ya exista, rquieres sus ids\n",
    "cart_id = \"9846d28d-1567-48a0-9d05-02cf4d2b8de4\"  # Ejemplo de UUID\n",
    "product_id = 3\n",
    "cart_item_data = {\n",
    "    \"cart_id\": cart_id,\n",
    "    \"product_id\" : product_id\n",
    "}\n",
    "response = requests.post(\"http://localhost:8001/carts/9846d28d-1567-48a0-9d05-02cf4d2b8de4/items/\", json = cart_item_data)\n",
    "print(response.status_code)\n",
    "print(response.text)\n",
    "if response.status_code == 200:\n",
    "    print(response.json())"
   ]
  },
  {
   "cell_type": "code",
   "execution_count": null,
   "metadata": {},
   "outputs": [],
   "source": [
    "# DELETE para CartItem\n",
    "\n",
    "#Elimitar cartItem por id\n",
    "# Aqui se necesita el id del carrito y el id del carritoItem\n",
    "response = requests.delete(\"http://localhost:8001/carts/9846d28d-1567-48a0-9d05-02cf4d2b8de4/items/594e85b2-ee09-4f38-99eb-e906c64d5641\")\n",
    "print(response.status_code)\n",
    "print(response.text)"
   ]
  },
  {
   "cell_type": "code",
   "execution_count": null,
   "metadata": {},
   "outputs": [],
   "source": [
    "# PATCH para CarritoItem \n",
    "\n",
    "# Aqui con el patch decidi solo poder modificar la cantidad de ese producto\n",
    "# Requieres la data, la cantidad del producto, el id del carrito y el id del carritoItem\n",
    "data = {\n",
    "    \"quantity\": 100\n",
    "}\n",
    "response = requests.patch(\"http://localhost:8001/carts/9846d28d-1567-48a0-9d05-02cf4d2b8de4/items/0b6ea5df-351a-4356-a692-e375230fb01d\", json = data)\n",
    "print(response.status_code)\n",
    "print(response.text)"
   ]
  }
 ],
 "metadata": {
  "kernelspec": {
   "display_name": "Python 3",
   "language": "python",
   "name": "python3"
  },
  "language_info": {
   "codemirror_mode": {
    "name": "ipython",
    "version": 3
   },
   "file_extension": ".py",
   "mimetype": "text/x-python",
   "name": "python",
   "nbconvert_exporter": "python",
   "pygments_lexer": "ipython3",
   "version": "3.12.8"
  }
 },
 "nbformat": 4,
 "nbformat_minor": 2
}
