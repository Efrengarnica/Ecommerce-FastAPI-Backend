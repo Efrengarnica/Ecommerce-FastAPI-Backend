{
 "cells": [
  {
   "cell_type": "code",
   "execution_count": 1,
   "metadata": {},
   "outputs": [
    {
     "name": "stdout",
     "output_type": "stream",
     "text": [
      "200\n",
      "{\"id\":\"5af577c9-38e0-4706-b056-f3c0f84f4808\",\"name\":\"Efren Garnica Palacios\",\"email\":\"efren@gmail.com\",\"age\":30,\"password\":\"ContraseñaEfren\"}\n",
      "{'id': '5af577c9-38e0-4706-b056-f3c0f84f4808', 'name': 'Efren Garnica Palacios', 'email': 'efren@gmail.com', 'age': 30, 'password': 'ContraseñaEfren'}\n"
     ]
    }
   ],
   "source": [
    "# POST para Usuario\n",
    "\n",
    "# Haciendo requests a nuestra API\n",
    "#Parece ser que esto hace que se pueda hacer una peticion http sin postman\n",
    "import requests\n",
    "user = {\n",
    "    \"name\": \"Efren Garnica Palacios\",\n",
    "    \"email\": \"efren@gmail.com\",\n",
    "    \"age\": 30,\n",
    "    \"password\": \"ContraseñaEfren\"\n",
    "}\n",
    "response = requests.post(\"http://localhost:8001/users/\", json = user)\n",
    "print(response.status_code)\n",
    "print(response.text)\n",
    "if response.status_code == 200:\n",
    "    print(response.json())"
   ]
  },
  {
   "cell_type": "code",
   "execution_count": 2,
   "metadata": {},
   "outputs": [
    {
     "name": "stdout",
     "output_type": "stream",
     "text": [
      "400\n",
      "{\"detail\":\"Email efren@gmail.com already registered.\"}\n",
      "200\n",
      "{\"id\":\"92dfc3bb-bfb8-46ee-a893-0ea7f4143f01\",\"name\":\"Maria Perez Seba\",\"email\":\"maria@gmail.com\",\"age\":22,\"password\":\"ContraseñaMaria\"}\n"
     ]
    }
   ],
   "source": [
    "# POST para Usuarios\n",
    "\n",
    "#Agregar más Usuarios\n",
    "users = [\n",
    "    {\n",
    "        \"name\": \"efren@gmail.com\",\n",
    "        \"email\": \"efren@gmail.com\",\n",
    "        \"age\": 25,\n",
    "        \"password\": \"ContraseñaJuan\"\n",
    "    },\n",
    "    {\n",
    "        \"name\": \"Maria Perez Seba\",\n",
    "        \"email\": \"maria@gmail.com\",\n",
    "        \"age\": 22 ,\n",
    "        \"password\": \"ContraseñaMaria\"\n",
    "    }\n",
    "]\n",
    "for user in users:\n",
    "    response = requests.post(\"http://localhost:8001/users/\", json = user)\n",
    "    print(response.status_code)\n",
    "    print(response.text)"
   ]
  },
  {
   "cell_type": "code",
   "execution_count": 3,
   "metadata": {},
   "outputs": [
    {
     "name": "stdout",
     "output_type": "stream",
     "text": [
      "200\n",
      "[{\"id\":\"58ae7d91-d8dd-4223-b6d9-3a91c79d6826\",\"name\":\"Efren Garnica Palacios\",\"email\":\"efren@gmail.com\",\"age\":30,\"password\":\"ContraseñaEfren\"},{\"id\":\"92dfc3bb-bfb8-46ee-a893-0ea7f4143f01\",\"name\":\"Maria Perez Seba\",\"email\":\"maria@gmail.com\",\"age\":22,\"password\":\"ContraseñaMaria\"}]\n",
      "[{'id': '58ae7d91-d8dd-4223-b6d9-3a91c79d6826', 'name': 'Efren Garnica Palacios', 'email': 'efren@gmail.com', 'age': 30, 'password': 'ContraseñaEfren'}, {'id': '92dfc3bb-bfb8-46ee-a893-0ea7f4143f01', 'name': 'Maria Perez Seba', 'email': 'maria@gmail.com', 'age': 22, 'password': 'ContraseñaMaria'}]\n"
     ]
    }
   ],
   "source": [
    "# GET para Usuarios\n",
    "\n",
    "import requests\n",
    "# Obtener todos los usuarios\n",
    "response = requests.get(\"http://localhost:8001/users/\")\n",
    "print(response.status_code)\n",
    "print(response.text)\n",
    "if response.status_code == 200:\n",
    "    users = response.json()\n",
    "    print(users)"
   ]
  },
  {
   "cell_type": "code",
   "execution_count": 4,
   "metadata": {},
   "outputs": [
    {
     "name": "stdout",
     "output_type": "stream",
     "text": [
      "200\n",
      "{\"id\":\"58ae7d91-d8dd-4223-b6d9-3a91c79d6826\",\"name\":\"Efren Garnica Palacios\",\"email\":\"efren@gmail.com\",\"age\":30,\"password\":\"ContraseñaEfren\"}\n"
     ]
    }
   ],
   "source": [
    "# GET para Usuario\n",
    "\n",
    "# Obtener usuario por id\n",
    "response = requests.get(\"http://localhost:8001/users/58ae7d91-d8dd-4223-b6d9-3a91c79d6826\")\n",
    "print(response.status_code)\n",
    "print(response.text)"
   ]
  },
  {
   "cell_type": "code",
   "execution_count": 5,
   "metadata": {},
   "outputs": [
    {
     "name": "stdout",
     "output_type": "stream",
     "text": [
      "200\n",
      "{\"id\":\"58ae7d91-d8dd-4223-b6d9-3a91c79d6826\",\"name\":\"Efren Garnica Palacios\",\"email\":\"efren@gmail.com\",\"age\":30,\"password\":\"ContraseñaEfren\"}\n"
     ]
    }
   ],
   "source": [
    "# DELETE para Usuario\n",
    "\n",
    "#Elimitar usuario por id\n",
    "response = requests.delete(\"http://localhost:8001/users/58ae7d91-d8dd-4223-b6d9-3a91c79d6826\")\n",
    "print(response.status_code)\n",
    "print(response.text)"
   ]
  },
  {
   "cell_type": "code",
   "execution_count": 6,
   "metadata": {},
   "outputs": [
    {
     "name": "stdout",
     "output_type": "stream",
     "text": [
      "200\n",
      "{\"id\":\"92dfc3bb-bfb8-46ee-a893-0ea7f4143f01\",\"name\":\"Nuevo Usuario\",\"email\":\"nuevo@gmail.com\",\"age\":33,\"password\":\"ContraseñaNueva\"}\n"
     ]
    }
   ],
   "source": [
    "# PUT para Usuario\n",
    "\n",
    "# Para esto requieres un usuario completo y su id en el endpoint\n",
    "user = {\n",
    "    \"id\": \"92dfc3bb-bfb8-46ee-a893-0ea7f4143f01\",\n",
    "    \"name\": \"Nuevo Usuario\",\n",
    "    \"email\": \"nuevo@gmail.com\",\n",
    "    \"age\": 33,\n",
    "    \"password\": \"ContraseñaNueva\"\n",
    "}\n",
    "response = requests.put(\"http://localhost:8001/users/\", json = user)\n",
    "print(response.status_code)\n",
    "print(response.text)"
   ]
  },
  {
   "cell_type": "code",
   "execution_count": 7,
   "metadata": {},
   "outputs": [
    {
     "name": "stdout",
     "output_type": "stream",
     "text": [
      "200\n",
      "{\"id\":\"92dfc3bb-bfb8-46ee-a893-0ea7f4143f01\",\"name\":\"Nuevo Usuario\",\"email\":\"MARIApatch@email.com\",\"age\":33,\"password\":\"ContraseñaNueva\"}\n"
     ]
    }
   ],
   "source": [
    "# PATCH para Usuario \n",
    "\n",
    "# Aqui en el patch no es necesario en la data mandar todos los datos puedo manadar los que quiera, menos el id\n",
    "# Requieres la data y el id del usuario\n",
    "data = {\n",
    "    \"email\": \"MARIApatch@email.com\",\n",
    "}\n",
    "response = requests.patch(\"http://localhost:8001/users/92dfc3bb-bfb8-46ee-a893-0ea7f4143f01\", json = data)\n",
    "print(response.status_code)\n",
    "print(response.text)"
   ]
  },
  {
   "cell_type": "code",
   "execution_count": 8,
   "metadata": {},
   "outputs": [
    {
     "name": "stdout",
     "output_type": "stream",
     "text": [
      "200\n",
      "<h1>Hello, HTML User!</h1>\n"
     ]
    }
   ],
   "source": [
    "# GET para Usuario pero me regresa HTML\n",
    "\n",
    "response = requests.get(\"http://localhost:8001/users/html/\")\n",
    "print(response.status_code)\n",
    "print(response.text)"
   ]
  },
  {
   "cell_type": "code",
   "execution_count": 9,
   "metadata": {},
   "outputs": [
    {
     "name": "stdout",
     "output_type": "stream",
     "text": [
      "200\n",
      "Hello, Plain User!\n"
     ]
    }
   ],
   "source": [
    "# GET para Usuario pero me regresa texto plano\n",
    "\n",
    "response = requests.get(\"http://localhost:8001/users/plain/\")\n",
    "print(response.status_code)\n",
    "print(response.text)"
   ]
  },
  {
   "cell_type": "code",
   "execution_count": 10,
   "metadata": {},
   "outputs": [
    {
     "name": "stdout",
     "output_type": "stream",
     "text": [
      "200\n",
      "Hello, Plain User!\n"
     ]
    }
   ],
   "source": [
    "# GET para Usuario pero me redirecciona a otro get\n",
    "\n",
    "response = requests.get(\"http://localhost:8001/users/redirect/\")\n",
    "print(response.status_code)\n",
    "print(response.text)"
   ]
  },
  {
   "cell_type": "code",
   "execution_count": 11,
   "metadata": {},
   "outputs": [
    {
     "name": "stdout",
     "output_type": "stream",
     "text": [
      "200\n",
      "{\"message\":\"Hello, JSON User!\"}\n"
     ]
    }
   ],
   "source": [
    "# GET para usuario pero me regresa Json\n",
    "\n",
    "response = requests.get(\"http://localhost:8001/users/json/\")\n",
    "print(response.status_code)\n",
    "print(response.text)"
   ]
  }
 ],
 "metadata": {
  "kernelspec": {
   "display_name": "venv",
   "language": "python",
   "name": "python3"
  },
  "language_info": {
   "codemirror_mode": {
    "name": "ipython",
    "version": 3
   },
   "file_extension": ".py",
   "mimetype": "text/x-python",
   "name": "python",
   "nbconvert_exporter": "python",
   "pygments_lexer": "ipython3",
   "version": "3.12.8"
  }
 },
 "nbformat": 4,
 "nbformat_minor": 2
}
