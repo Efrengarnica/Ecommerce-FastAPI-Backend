{
 "cells": [
  {
   "cell_type": "code",
   "execution_count": 30,
   "metadata": {},
   "outputs": [
    {
     "name": "stdout",
     "output_type": "stream",
     "text": [
      "200\n",
      "{\"id\":\"43f5dd37-a5ce-478b-b702-1e4a73a0b5f5\",\"name\":\"Efren Garnica Teves\",\"email\":\"efren@gmail.com\",\"age\":30,\"password\":\"ContraseñaEfren\"}\n",
      "{'id': '43f5dd37-a5ce-478b-b702-1e4a73a0b5f5', 'name': 'Efren Garnica Teves', 'email': 'efren@gmail.com', 'age': 30, 'password': 'ContraseñaEfren'}\n"
     ]
    }
   ],
   "source": [
    "# POST para Usuario\n",
    "\n",
    "# Haciendo requests a nuestra API\n",
    "#Parece ser que esto hace que se pueda hacer una peticion http sin postman\n",
    "import requests\n",
    "user = {\n",
    "    \"name\": \"Efren Garnica Teves\",\n",
    "    \"email\": \"efren@gmail.com\",\n",
    "    \"age\": 30,\n",
    "    \"password\": \"ContraseñaEfren\"\n",
    "}\n",
    "response = requests.post(\"http://localhost:8001/users/\", json = user)\n",
    "print(response.status_code)\n",
    "print(response.text)\n",
    "if response.status_code == 200:\n",
    "    print(response.json())"
   ]
  },
  {
   "cell_type": "code",
   "execution_count": 31,
   "metadata": {},
   "outputs": [
    {
     "name": "stdout",
     "output_type": "stream",
     "text": [
      "200\n",
      "{\"id\":\"495a4483-3dc3-4839-af01-8b239e01b02d\",\"name\":\"Juan Gonzales Humeres\",\"email\":\"juan@gmail.com\",\"age\":25,\"password\":\"ContraseñaJuan\"}\n",
      "200\n",
      "{\"id\":\"95993843-2a40-4b04-b30b-80a98e03d4ed\",\"name\":\"Maria Perez Seba\",\"email\":\"maria@gmail.com\",\"age\":22,\"password\":\"ContraseñaMaria\"}\n"
     ]
    }
   ],
   "source": [
    "# POST para Usuarios\n",
    "\n",
    "#Agregar más Usuarios\n",
    "users = [\n",
    "    {\n",
    "        \"name\": \"Juan Gonzales Humeres\",\n",
    "        \"email\": \"juan@gmail.com\",\n",
    "        \"age\": 25,\n",
    "        \"password\": \"ContraseñaJuan\"\n",
    "    },\n",
    "    {\n",
    "        \"name\": \"Maria Perez Seba\",\n",
    "        \"email\": \"maria@gmail.com\",\n",
    "        \"age\": 22 ,\n",
    "        \"password\": \"ContraseñaMaria\"\n",
    "    }\n",
    "]\n",
    "for user in users:\n",
    "    response = requests.post(\"http://localhost:8001/users/\", json = user)\n",
    "    print(response.status_code)\n",
    "    print(response.text)"
   ]
  },
  {
   "cell_type": "code",
   "execution_count": null,
   "metadata": {},
   "outputs": [],
   "source": [
    "# GET para Usuarios\n",
    "\n",
    "# Obtener todos los usuarios\n",
    "response = requests.get(\"http://localhost:8001/users/\")\n",
    "print(response.status_code)\n",
    "print(response.text)\n",
    "if response.status_code == 200:\n",
    "    users = response.json()\n",
    "    print(users)"
   ]
  },
  {
   "cell_type": "code",
   "execution_count": null,
   "metadata": {},
   "outputs": [],
   "source": [
    "# GET para Usuario\n",
    "\n",
    "# Obtener usuario por id\n",
    "response = requests.get(\"http://localhost:8001/users/c695f2a1-c881-44ea-8c64-a487682edc9a\")\n",
    "print(response.status_code)\n",
    "print(response.text)"
   ]
  },
  {
   "cell_type": "code",
   "execution_count": null,
   "metadata": {},
   "outputs": [],
   "source": [
    "# DELETE para Usuario\n",
    "\n",
    "#Elimitar usuario por id\n",
    "response = requests.delete(\"http://localhost:8001/users/c695f2a1-c881-44ea-8c64-a487682edc9a\")\n",
    "print(response.status_code)\n",
    "print(response.text)"
   ]
  },
  {
   "cell_type": "code",
   "execution_count": null,
   "metadata": {},
   "outputs": [],
   "source": [
    "# PUT para Usuario\n",
    "\n",
    "#Updating the user completely\n",
    "# Para esto requieres un usuario completo y su id en el endpoint\n",
    "user = {\n",
    "    \"id\": \"ec023ccb-9f89-4303-a8f7-4359ad60079c\",\n",
    "    \"name\": \"Nuevo Usuario\",\n",
    "    \"email\": \"nuevo@gmail.com\",\n",
    "    \"age\": 33,\n",
    "    \"password\": \"ContraseñaNueva\"\n",
    "}\n",
    "response = requests.put(\"http://localhost:8001/users/\", json = user)\n",
    "print(response.status_code)\n",
    "print(response.text)"
   ]
  },
  {
   "cell_type": "code",
   "execution_count": null,
   "metadata": {},
   "outputs": [],
   "source": [
    "# PATCH para Usuario \n",
    "\n",
    "# Aqui en el patch no es necesario en la data mandar todos los datos puedo manadar los que quiera, menos el id\n",
    "# Requieres la data y el id del usuario\n",
    "data = {\n",
    "    \"email\": \"MARIApatch@email.com\",\n",
    "}\n",
    "response = requests.patch(\"http://localhost:8001/users/ec023ccb-9f89-4303-a8f7-4359ad60079c\", json = data)\n",
    "print(response.status_code)\n",
    "print(response.text)"
   ]
  },
  {
   "cell_type": "code",
   "execution_count": null,
   "metadata": {},
   "outputs": [],
   "source": [
    "# GET para Usuario pero me regresa HTML\n",
    "\n",
    "response = requests.get(\"http://localhost:8001/users/html/\")\n",
    "print(response.status_code)\n",
    "print(response.text)"
   ]
  },
  {
   "cell_type": "code",
   "execution_count": null,
   "metadata": {},
   "outputs": [],
   "source": [
    "# GET para Usuario pero me regresa texto plano\n",
    "\n",
    "response = requests.get(\"http://localhost:8001/users/plain/\")\n",
    "print(response.status_code)\n",
    "print(response.text)"
   ]
  },
  {
   "cell_type": "code",
   "execution_count": null,
   "metadata": {},
   "outputs": [],
   "source": [
    "# GET para Usuario pero me redirecciona a otro get\n",
    "\n",
    "response = requests.get(\"http://localhost:8001/users/redirect/\")\n",
    "print(response.status_code)\n",
    "print(response.text)"
   ]
  },
  {
   "cell_type": "code",
   "execution_count": null,
   "metadata": {},
   "outputs": [],
   "source": [
    "# GET para usuario pero me regresa Json\n",
    "\n",
    "response = requests.get(\"http://localhost:8001/users/json/\")\n",
    "print(response.status_code)\n",
    "print(response.text)"
   ]
  }
 ],
 "metadata": {
  "kernelspec": {
   "display_name": "Python 3",
   "language": "python",
   "name": "python3"
  },
  "language_info": {
   "codemirror_mode": {
    "name": "ipython",
    "version": 3
   },
   "file_extension": ".py",
   "mimetype": "text/x-python",
   "name": "python",
   "nbconvert_exporter": "python",
   "pygments_lexer": "ipython3",
   "version": "3.12.8"
  }
 },
 "nbformat": 4,
 "nbformat_minor": 2
}
