{
 "cells": [
  {
   "cell_type": "code",
   "execution_count": 10,
   "metadata": {},
   "outputs": [
    {
     "name": "stdout",
     "output_type": "stream",
     "text": [
      "400\n",
      "{\"detail\":\"Product name 'Chamarra' already exists.\"}\n"
     ]
    }
   ],
   "source": [
    "# POST para Producto\n",
    "\n",
    "# Haciendo requests a nuestra API\n",
    "import requests\n",
    "product = {\n",
    "    \"name\": \"Chamarra\",\n",
    "    \"price\": 20,\n",
    "    \"category\": \"Hombre\"\n",
    "}\n",
    "response = requests.post(\"http://localhost:8001/products/\", json = product)\n",
    "print(response.status_code)\n",
    "print(response.text)\n",
    "if response.status_code == 200:\n",
    "    print(response.json())"
   ]
  },
  {
   "cell_type": "code",
   "execution_count": 6,
   "metadata": {},
   "outputs": [
    {
     "name": "stdout",
     "output_type": "stream",
     "text": [
      "200\n",
      "[{\"id\":1,\"name\":\"Chamarra\",\"price\":20.0,\"category\":\"Hombre\"},{\"id\":3,\"name\":\"Chamarra trex\",\"price\":40.0,\"category\":\"Mujer\"}]\n",
      "[{'id': 1, 'name': 'Chamarra', 'price': 20.0, 'category': 'Hombre'}, {'id': 3, 'name': 'Chamarra trex', 'price': 40.0, 'category': 'Mujer'}]\n"
     ]
    }
   ],
   "source": [
    "# GET para Productos\n",
    "\n",
    "# Obtener todos los productos\n",
    "response = requests.get(\"http://localhost:8001/products/\")\n",
    "print(response.status_code)\n",
    "print(response.text)\n",
    "if response.status_code == 200:\n",
    "    products = response.json()\n",
    "    print(products)"
   ]
  },
  {
   "cell_type": "code",
   "execution_count": 3,
   "metadata": {},
   "outputs": [
    {
     "name": "stdout",
     "output_type": "stream",
     "text": [
      "200\n",
      "{'id': 2, 'name': 'Pantalon rasgado', 'price': 24.0, 'category': 'Hombre'}\n",
      "200\n",
      "{'id': 3, 'name': 'Chamarra trex', 'price': 40.0, 'category': 'Mujer'}\n"
     ]
    }
   ],
   "source": [
    "# POST para Productos\n",
    "\n",
    "#Agregar más productos\n",
    "products = [\n",
    "    {\n",
    "    \"name\": \"Pantalon rasgado\",\n",
    "    \"price\": 24,\n",
    "    \"category\": \"Hombre\"\n",
    "    },\n",
    "    {\n",
    "    \"name\": \"Chamarra trex\",\n",
    "    \"price\": 40,\n",
    "    \"category\": \"Mujer\"\n",
    "    }          \n",
    "]\n",
    "for product in products:\n",
    "    response = requests.post(\"http://localhost:8001/products/\", json = product)\n",
    "    print(response.status_code)\n",
    "    print(response.json())"
   ]
  },
  {
   "cell_type": "code",
   "execution_count": 9,
   "metadata": {},
   "outputs": [
    {
     "name": "stdout",
     "output_type": "stream",
     "text": [
      "404\n",
      "{\"detail\":\"Product with ID 4 not found.\"}\n"
     ]
    }
   ],
   "source": [
    "# GET para Producto\n",
    "\n",
    "# Obtener producto por id\n",
    "response = requests.get(\"http://localhost:8001/products/4\")\n",
    "print(response.status_code)\n",
    "print(response.text)"
   ]
  },
  {
   "cell_type": "code",
   "execution_count": 5,
   "metadata": {},
   "outputs": [
    {
     "name": "stdout",
     "output_type": "stream",
     "text": [
      "200\n",
      "{\"id\":2,\"name\":\"Pantalon rasgado\",\"price\":24.0,\"category\":\"Hombre\"}\n"
     ]
    }
   ],
   "source": [
    "# DELETE para Producto\n",
    "\n",
    "#Elimitar producto por id\n",
    "response = requests.delete(\"http://localhost:8001/products/2\")\n",
    "print(response.status_code)\n",
    "print(response.text)"
   ]
  },
  {
   "cell_type": "code",
   "execution_count": 7,
   "metadata": {},
   "outputs": [
    {
     "name": "stdout",
     "output_type": "stream",
     "text": [
      "200\n",
      "{\"id\":3,\"name\":\"Chamarra Trex NUEVA\",\"price\":50.0,\"category\":\"Hombre\"}\n"
     ]
    }
   ],
   "source": [
    "# PUT para Producto\n",
    "\n",
    "# Updating the product completely\n",
    "# Para esto requieres un producto completo y su id en el endpoint\n",
    "product = {\n",
    "    \"id\": 3,\n",
    "    \"name\": \"Chamarra Trex NUEVA\",\n",
    "    \"price\": 50,\n",
    "    \"category\": \"Hombre\"\n",
    "}\n",
    "response = requests.put(\"http://localhost:8001/products/\", json = product)\n",
    "print(response.status_code)\n",
    "print(response.text)"
   ]
  },
  {
   "cell_type": "code",
   "execution_count": 8,
   "metadata": {},
   "outputs": [
    {
     "name": "stdout",
     "output_type": "stream",
     "text": [
      "200\n",
      "{\"id\":3,\"name\":\"Chamarra Trex NUEVA\",\"price\":50.0,\"category\":\"Mujer\"}\n"
     ]
    }
   ],
   "source": [
    "# PATCH para Producto \n",
    "\n",
    "# Aqui en el patch no es necesario en la data mandar todos los datos puedo manadar los que quiera, menos el id\n",
    "# Requieres la data y el id del producto\n",
    "data = {\n",
    "    \"category\": \"Mujer\"\n",
    "}\n",
    "response = requests.patch(\"http://localhost:8001/products/3\", json=data)\n",
    "print(response.status_code)\n",
    "print(response.text)"
   ]
  }
 ],
 "metadata": {
  "kernelspec": {
   "display_name": "Python 3",
   "language": "python",
   "name": "python3"
  },
  "language_info": {
   "codemirror_mode": {
    "name": "ipython",
    "version": 3
   },
   "file_extension": ".py",
   "mimetype": "text/x-python",
   "name": "python",
   "nbconvert_exporter": "python",
   "pygments_lexer": "ipython3",
   "version": "3.12.8"
  }
 },
 "nbformat": 4,
 "nbformat_minor": 2
}
