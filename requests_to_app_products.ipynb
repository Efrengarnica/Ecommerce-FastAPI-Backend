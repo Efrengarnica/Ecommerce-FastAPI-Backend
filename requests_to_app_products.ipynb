{
 "cells": [
  {
   "cell_type": "code",
   "execution_count": null,
   "metadata": {},
   "outputs": [
    {
     "name": "stdout",
     "output_type": "stream",
     "text": [
      "Usando imagen en: /home/egp/ejercicios_capacitacion_chelita/ejercicios_JS/tienda-con-bulma/assets/h1.jpg\n",
      "{'id': 1, 'name': 'Camisa Oxford', 'price': 500.0, 'category': 'Hombre', 'image': 'https://res.cloudinary.com/dfe12pm1m/image/upload/v1743481917/bikwncutda3nbkzg943e.jpg'}\n"
     ]
    }
   ],
   "source": [
    "# POST para Producto\n",
    "\n",
    "# Haciendo requests a nuestra API\n",
    "import os\n",
    "import requests\n",
    "\n",
    "# Obtener la ruta absoluta de la imagen\n",
    "image_filename = \"h1.jpg\"  # Nombre del archivo\n",
    "image_folder = os.path.abspath(os.path.join(\"../../ejercicios_JS/tienda-con-bulma/\", \"assets\"))  # Ruta de la carpeta de imágenes\n",
    "image_path = os.path.join(image_folder, image_filename)  # Ruta completa\n",
    "\n",
    "# Verificar si la imagen existe antes de abrirla\n",
    "if not os.path.exists(image_path):\n",
    "    raise FileNotFoundError(f\"La imagen '{image_path}' no existe. Verifica la ruta.\")\n",
    "\n",
    "product_data = {\n",
    "    \"name\": \"Camisa Oxford\",\n",
    "    \"price\": 500,\n",
    "    \"category\": \"Hombre\"\n",
    "}\n",
    "\n",
    "# Imprimir ruta de la imagen para depuración\n",
    "print(f\"Usando imagen en: {image_path}\")\n",
    "\n",
    "with open(image_path, \"rb\") as image_file:\n",
    "    files = {\"file\": image_file}\n",
    "    response = requests.post(\"http://localhost:8001/products/\", data=product_data, files=files)\n",
    "\n",
    "if response.status_code == 200:\n",
    "    print(response.json())"
   ]
  },
  {
   "cell_type": "code",
   "execution_count": null,
   "metadata": {},
   "outputs": [
    {
     "name": "stdout",
     "output_type": "stream",
     "text": [
      "Usando imagen en: /home/egp/ejercicios_capacitacion_chelita/ejercicios_JS/tienda-con-bulma/assets/h2.jpg\n",
      "{'id': 2, 'name': 'Pantalones Chinos', 'price': 600.0, 'category': 'Hombre', 'image': 'https://res.cloudinary.com/dfe12pm1m/image/upload/v1743481924/z3ml2xwreggcl0c7nyyy.jpg'}\n"
     ]
    }
   ],
   "source": [
    "# POST para Producto\n",
    "\n",
    "# Obtener la ruta absoluta de la imagen\n",
    "image_filename = \"h2.jpg\"  # Nombre del archivo\n",
    "image_folder = os.path.abspath(os.path.join(\"../../ejercicios_JS/tienda-con-bulma/\", \"assets\"))  # Ruta de la carpeta de imágenes\n",
    "image_path = os.path.join(image_folder, image_filename)  # Ruta completa\n",
    "\n",
    "# Verificar si la imagen existe antes de abrirla\n",
    "if not os.path.exists(image_path):\n",
    "    raise FileNotFoundError(f\"La imagen '{image_path}' no existe. Verifica la ruta.\")\n",
    "\n",
    "product_data = {\n",
    "    \"name\": \"Pantalones Chinos\",\n",
    "    \"price\": 600,\n",
    "    \"category\": \"Hombre\"\n",
    "}\n",
    "\n",
    "# Imprimir ruta de la imagen para depuración\n",
    "print(f\"Usando imagen en: {image_path}\")\n",
    "\n",
    "with open(image_path, \"rb\") as image_file:\n",
    "    files = {\"file\": image_file}\n",
    "    response = requests.post(\"http://localhost:8001/products/\", data=product_data, files=files)\n",
    "\n",
    "if response.status_code == 200:\n",
    "    print(response.json())"
   ]
  },
  {
   "cell_type": "code",
   "execution_count": null,
   "metadata": {},
   "outputs": [
    {
     "name": "stdout",
     "output_type": "stream",
     "text": [
      "Usando imagen en: /home/egp/ejercicios_capacitacion_chelita/ejercicios_JS/tienda-con-bulma/assets/h3.jpg\n",
      "{'id': 3, 'name': 'Camisa Italiana', 'price': 700.0, 'category': 'Hombre', 'image': 'https://res.cloudinary.com/dfe12pm1m/image/upload/v1743481930/b7uwmgtl4lyliskilysz.jpg'}\n"
     ]
    }
   ],
   "source": [
    "# POST para Producto\n",
    "\n",
    "# Obtener la ruta absoluta de la imagen\n",
    "image_filename = \"h3.jpg\"  # Nombre del archivo\n",
    "image_folder = os.path.abspath(os.path.join(\"../../ejercicios_JS/tienda-con-bulma/\", \"assets\"))  # Ruta de la carpeta de imágenes\n",
    "image_path = os.path.join(image_folder, image_filename)  # Ruta completa\n",
    "\n",
    "# Verificar si la imagen existe antes de abrirla\n",
    "if not os.path.exists(image_path):\n",
    "    raise FileNotFoundError(f\"La imagen '{image_path}' no existe. Verifica la ruta.\")\n",
    "\n",
    "product_data = {\n",
    "    \"name\": \"Camisa Italiana\",\n",
    "    \"price\": 700,\n",
    "    \"category\": \"Hombre\"\n",
    "}\n",
    "\n",
    "# Imprimir ruta de la imagen para depuración\n",
    "print(f\"Usando imagen en: {image_path}\")\n",
    "\n",
    "with open(image_path, \"rb\") as image_file:\n",
    "    files = {\"file\": image_file}\n",
    "    response = requests.post(\"http://localhost:8001/products/\", data=product_data, files=files)\n",
    "\n",
    "if response.status_code == 200:\n",
    "    print(response.json())"
   ]
  },
  {
   "cell_type": "code",
   "execution_count": null,
   "metadata": {},
   "outputs": [
    {
     "name": "stdout",
     "output_type": "stream",
     "text": [
      "Usando imagen en: /home/egp/ejercicios_capacitacion_chelita/ejercicios_JS/tienda-con-bulma/assets/h4.jpg\n",
      "{'id': 4, 'name': 'Playera básica', 'price': 900.0, 'category': 'Hombre', 'image': 'https://res.cloudinary.com/dfe12pm1m/image/upload/v1743481936/yqzzzq0begkhzuj3brgl.jpg'}\n"
     ]
    }
   ],
   "source": [
    "# POST para Producto\n",
    "\n",
    "# Obtener la ruta absoluta de la imagen\n",
    "image_filename = \"h4.jpg\"  # Nombre del archivo\n",
    "image_folder = os.path.abspath(os.path.join(\"../../ejercicios_JS/tienda-con-bulma/\", \"assets\"))  # Ruta de la carpeta de imágenes\n",
    "image_path = os.path.join(image_folder, image_filename)  # Ruta completa\n",
    "\n",
    "# Verificar si la imagen existe antes de abrirla\n",
    "if not os.path.exists(image_path):\n",
    "    raise FileNotFoundError(f\"La imagen '{image_path}' no existe. Verifica la ruta.\")\n",
    "\n",
    "product_data = {\n",
    "    \"name\": \"Playera básica\",\n",
    "    \"price\": 900,\n",
    "    \"category\": \"Hombre\"\n",
    "}\n",
    "\n",
    "# Imprimir ruta de la imagen para depuración\n",
    "print(f\"Usando imagen en: {image_path}\")\n",
    "\n",
    "with open(image_path, \"rb\") as image_file:\n",
    "    files = {\"file\": image_file}\n",
    "    response = requests.post(\"http://localhost:8001/products/\", data=product_data, files=files)\n",
    "\n",
    "if response.status_code == 200:\n",
    "    print(response.json())"
   ]
  },
  {
   "cell_type": "code",
   "execution_count": null,
   "metadata": {},
   "outputs": [
    {
     "name": "stdout",
     "output_type": "stream",
     "text": [
      "Usando imagen en: /home/egp/ejercicios_capacitacion_chelita/ejercicios_JS/tienda-con-bulma/assets/h5.jpg\n",
      "{'id': 5, 'name': 'Lentes Trench', 'price': 1200.0, 'category': 'Hombre', 'image': 'https://res.cloudinary.com/dfe12pm1m/image/upload/v1743481941/rij8wjj0eczejev88apt.jpg'}\n"
     ]
    }
   ],
   "source": [
    "# POST para Producto\n",
    "\n",
    "# Obtener la ruta absoluta de la imagen\n",
    "image_filename = \"h5.jpg\"  # Nombre del archivo\n",
    "image_folder = os.path.abspath(os.path.join(\"../../ejercicios_JS/tienda-con-bulma/\", \"assets\"))  # Ruta de la carpeta de imágenes\n",
    "image_path = os.path.join(image_folder, image_filename)  # Ruta completa\n",
    "\n",
    "# Verificar si la imagen existe antes de abrirla\n",
    "if not os.path.exists(image_path):\n",
    "    raise FileNotFoundError(f\"La imagen '{image_path}' no existe. Verifica la ruta.\")\n",
    "\n",
    "product_data = {\n",
    "    \"name\": \"Lentes Trench\",\n",
    "    \"price\": 1200,\n",
    "    \"category\": \"Hombre\"\n",
    "}\n",
    "\n",
    "# Imprimir ruta de la imagen para depuración\n",
    "print(f\"Usando imagen en: {image_path}\")\n",
    "\n",
    "with open(image_path, \"rb\") as image_file:\n",
    "    files = {\"file\": image_file}\n",
    "    response = requests.post(\"http://localhost:8001/products/\", data=product_data, files=files)\n",
    "\n",
    "if response.status_code == 200:\n",
    "    print(response.json())"
   ]
  },
  {
   "cell_type": "code",
   "execution_count": 8,
   "metadata": {},
   "outputs": [
    {
     "name": "stdout",
     "output_type": "stream",
     "text": [
      "200\n",
      "[{\"id\":1,\"name\":\"Camisa Oxford\",\"price\":500.0,\"category\":\"Hombre\",\"image\":\"https://res.cloudinary.com/dfe12pm1m/image/upload/v1743481917/bikwncutda3nbkzg943e.jpg\"},{\"id\":2,\"name\":\"Pantalones Chinos\",\"price\":600.0,\"category\":\"Hombre\",\"image\":\"https://res.cloudinary.com/dfe12pm1m/image/upload/v1743481924/z3ml2xwreggcl0c7nyyy.jpg\"},{\"id\":3,\"name\":\"Camisa Italiana\",\"price\":700.0,\"category\":\"Hombre\",\"image\":\"https://res.cloudinary.com/dfe12pm1m/image/upload/v1743481930/b7uwmgtl4lyliskilysz.jpg\"},{\"id\":4,\"name\":\"Playera básica\",\"price\":900.0,\"category\":\"Hombre\",\"image\":\"https://res.cloudinary.com/dfe12pm1m/image/upload/v1743481936/yqzzzq0begkhzuj3brgl.jpg\"},{\"id\":5,\"name\":\"Lentes Trench\",\"price\":1200.0,\"category\":\"Hombre\",\"image\":\"https://res.cloudinary.com/dfe12pm1m/image/upload/v1743481941/rij8wjj0eczejev88apt.jpg\"}]\n",
      "[{'id': 1, 'name': 'Camisa Oxford', 'price': 500.0, 'category': 'Hombre', 'image': 'https://res.cloudinary.com/dfe12pm1m/image/upload/v1743481917/bikwncutda3nbkzg943e.jpg'}, {'id': 2, 'name': 'Pantalones Chinos', 'price': 600.0, 'category': 'Hombre', 'image': 'https://res.cloudinary.com/dfe12pm1m/image/upload/v1743481924/z3ml2xwreggcl0c7nyyy.jpg'}, {'id': 3, 'name': 'Camisa Italiana', 'price': 700.0, 'category': 'Hombre', 'image': 'https://res.cloudinary.com/dfe12pm1m/image/upload/v1743481930/b7uwmgtl4lyliskilysz.jpg'}, {'id': 4, 'name': 'Playera básica', 'price': 900.0, 'category': 'Hombre', 'image': 'https://res.cloudinary.com/dfe12pm1m/image/upload/v1743481936/yqzzzq0begkhzuj3brgl.jpg'}, {'id': 5, 'name': 'Lentes Trench', 'price': 1200.0, 'category': 'Hombre', 'image': 'https://res.cloudinary.com/dfe12pm1m/image/upload/v1743481941/rij8wjj0eczejev88apt.jpg'}]\n"
     ]
    }
   ],
   "source": [
    "# GET para Productos\n",
    "\n",
    "# Obtener todos los productos\n",
    "response = requests.get(\"http://localhost:8001/products/\")\n",
    "print(response.status_code)\n",
    "print(response.text)\n",
    "if response.status_code == 200:\n",
    "    products = response.json()\n",
    "    print(products)"
   ]
  },
  {
   "cell_type": "code",
   "execution_count": 9,
   "metadata": {},
   "outputs": [
    {
     "name": "stdout",
     "output_type": "stream",
     "text": [
      "200\n",
      "{\"id\":1,\"name\":\"Camisa Oxford\",\"price\":500.0,\"category\":\"Hombre\",\"image\":\"https://res.cloudinary.com/dfe12pm1m/image/upload/v1743481917/bikwncutda3nbkzg943e.jpg\"}\n"
     ]
    }
   ],
   "source": [
    "# GET para Producto\n",
    "\n",
    "# Obtener producto por id\n",
    "response = requests.get(\"http://localhost:8001/products/1\")\n",
    "print(response.status_code)\n",
    "print(response.text)"
   ]
  },
  {
   "cell_type": "code",
   "execution_count": 10,
   "metadata": {},
   "outputs": [
    {
     "name": "stdout",
     "output_type": "stream",
     "text": [
      "200\n",
      "{\"id\":1,\"name\":\"Camisa Oxford\",\"price\":500.0,\"category\":\"Hombre\",\"image\":\"https://res.cloudinary.com/dfe12pm1m/image/upload/v1743481917/bikwncutda3nbkzg943e.jpg\"}\n"
     ]
    }
   ],
   "source": [
    "# DELETE para Producto\n",
    "\n",
    "#Elimitar producto por id\n",
    "response = requests.delete(\"http://localhost:8001/products/1\")\n",
    "print(response.status_code)\n",
    "print(response.text)"
   ]
  },
  {
   "cell_type": "code",
   "execution_count": null,
   "metadata": {},
   "outputs": [
    {
     "name": "stdout",
     "output_type": "stream",
     "text": [
      "Usando imagen en: /home/egp/ejercicios_capacitacion_chelita/ejercicios_JS/tienda-con-bulma/assets/h5.jpg\n",
      "200\n",
      "{\"id\":2,\"name\":\"Camisa Trex NUEVA\",\"price\":50.0,\"category\":\"Mujer\",\"image\":\"https://res.cloudinary.com/dfe12pm1m/image/upload/v1743482351/hbsyzujiaeaqqbmwtjvi.jpg\"}\n",
      "{'id': 2, 'name': 'Camisa Trex NUEVA', 'price': 50.0, 'category': 'Mujer', 'image': 'https://res.cloudinary.com/dfe12pm1m/image/upload/v1743482351/hbsyzujiaeaqqbmwtjvi.jpg'}\n"
     ]
    }
   ],
   "source": [
    "# PUT para Producto\n",
    "\n",
    "# Obtener la ruta absoluta de la imagen\n",
    "image_filename = \"h5.jpg\"  # Nombre del archivo\n",
    "image_folder = os.path.abspath(os.path.join(\"../../ejercicios_JS/tienda-con-bulma/\", \"assets\"))  # Ruta de la carpeta de imágenes\n",
    "image_path = os.path.join(image_folder, image_filename)  # Ruta completa\n",
    "\n",
    "# Verificar si la imagen existe antes de abrirla\n",
    "if not os.path.exists(image_path):\n",
    "    raise FileNotFoundError(f\"La imagen '{image_path}' no existe. Verifica la ruta.\")\n",
    "\n",
    "product_data = {\n",
    "    \"id\": 2,\n",
    "    \"name\": \"Camisa Trex NUEVA\",\n",
    "    \"price\": 50,\n",
    "    \"category\": \"Mujer\"\n",
    "}\n",
    "\n",
    "# Imprimir ruta de la imagen para depuración\n",
    "print(f\"Usando imagen en: {image_path}\")\n",
    "\n",
    "with open(image_path, \"rb\") as image_file:\n",
    "    files = {\"file\": image_file}\n",
    "    response = requests.put(\"http://localhost:8001/products/\", data=product_data, files=files)\n",
    "\n",
    "if response.status_code == 200:\n",
    "    print(response.json())"
   ]
  },
  {
   "cell_type": "code",
   "execution_count": 12,
   "metadata": {},
   "outputs": [
    {
     "name": "stdout",
     "output_type": "stream",
     "text": [
      "Usando imagen en: /home/egp/ejercicios_capacitacion_chelita/ejercicios_JS/tienda-con-bulma/assets/h7.jpg\n",
      "200\n",
      "{\"id\":2,\"name\":\"Camisa Trex NUEVA\",\"price\":50.0,\"category\":\"Mujer\",\"image\":\"https://res.cloudinary.com/dfe12pm1m/image/upload/v1743482497/schansghpytbjmjeu69b.jpg\"}\n",
      "{'id': 2, 'name': 'Camisa Trex NUEVA', 'price': 50.0, 'category': 'Mujer', 'image': 'https://res.cloudinary.com/dfe12pm1m/image/upload/v1743482497/schansghpytbjmjeu69b.jpg'}\n"
     ]
    }
   ],
   "source": [
    "# PATCH para Producto, solo la IMAGEN\n",
    "\n",
    "# Obtener la ruta absoluta de la imagen\n",
    "image_filename = \"h7.jpg\"  # Nombre del archivo\n",
    "image_folder = os.path.abspath(os.path.join(\"../../ejercicios_JS/tienda-con-bulma/\",\"assets\"))  # Ruta de la carpeta de imágenes\n",
    "image_path = os.path.join(image_folder, image_filename)  # Ruta completa\n",
    "\n",
    "# Verificar si la imagen existe antes de abrirla\n",
    "if not os.path.exists(image_path):\n",
    "    raise FileNotFoundError(f\"La imagen '{image_path}' no existe. Verifica la ruta.\")\n",
    "\n",
    "# Imprimir ruta de la imagen para depuración\n",
    "print(f\"Usando imagen en: {image_path}\")\n",
    "\n",
    "with open(image_path, \"rb\") as image_file:\n",
    "    files = {\"file\": image_file}\n",
    "    response = requests.patch(\"http://localhost:8001/products/2/image\", files=files)\n",
    "\n",
    "print(response.status_code)\n",
    "print(response.text)\n",
    "if response.status_code == 200:\n",
    "    print(response.json())"
   ]
  },
  {
   "cell_type": "code",
   "execution_count": 14,
   "metadata": {},
   "outputs": [
    {
     "name": "stdout",
     "output_type": "stream",
     "text": [
      "200\n",
      "{\"id\":2,\"name\":\"Camisa Trex NUEVA\",\"price\":5000.0,\"category\":\"Hombre\",\"image\":\"https://res.cloudinary.com/dfe12pm1m/image/upload/v1743482497/schansghpytbjmjeu69b.jpg\"}\n"
     ]
    }
   ],
   "source": [
    "# PATCH para Producto \n",
    "\n",
    "# Aqui en el patch no es necesario en la data mandar todos los datos puedo manadar los que quiera, menos el id\n",
    "# Requieres la data y el id del producto\n",
    "data = {\n",
    "    \"price\": 5000,\n",
    "    \"category\": \"Hombre\"\n",
    "}\n",
    "response = requests.patch(\"http://localhost:8001/products/2\", json=data)\n",
    "print(response.status_code)\n",
    "print(response.text)"
   ]
  }
 ],
 "metadata": {
  "kernelspec": {
   "display_name": "Python 3",
   "language": "python",
   "name": "python3"
  },
  "language_info": {
   "codemirror_mode": {
    "name": "ipython",
    "version": 3
   },
   "file_extension": ".py",
   "mimetype": "text/x-python",
   "name": "python",
   "nbconvert_exporter": "python",
   "pygments_lexer": "ipython3",
   "version": "3.12.8"
  }
 },
 "nbformat": 4,
 "nbformat_minor": 2
}
