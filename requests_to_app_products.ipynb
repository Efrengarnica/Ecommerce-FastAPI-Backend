{
 "cells": [
  {
   "cell_type": "code",
   "execution_count": 28,
   "metadata": {},
   "outputs": [
    {
     "name": "stdout",
     "output_type": "stream",
     "text": [
      "Usando imagen en: /home/egp/ejercicios_capacitacion_chelita/ejercicios_JS/tienda-con-bulma/assets/h1.jpg\n",
      "{'id': 1, 'name': 'Camisa Oxford', 'price': 500.0, 'category': 'Hombre', 'image': 'https://res.cloudinary.com/dfe12pm1m/image/upload/v1743621020/uvbipwbc5hi6q8e4utfz.jpg'}\n"
     ]
    }
   ],
   "source": [
    "# POST para Producto\n",
    "\n",
    "# Haciendo requests a nuestra API\n",
    "import os\n",
    "import requests\n",
    "\n",
    "# Obtener la ruta absoluta de la imagen\n",
    "image_filename = \"h1.jpg\"  # Nombre del archivo\n",
    "image_folder = os.path.abspath(os.path.join(\"../../ejercicios_JS/tienda-con-bulma/\", \"assets\"))  # Ruta de la carpeta de imágenes\n",
    "image_path = os.path.join(image_folder, image_filename)  # Ruta completa\n",
    "\n",
    "# Verificar si la imagen existe antes de abrirla\n",
    "if not os.path.exists(image_path):\n",
    "    raise FileNotFoundError(f\"La imagen '{image_path}' no existe. Verifica la ruta.\")\n",
    "\n",
    "product_data = {\n",
    "    \"name\": \"Camisa Oxford\",\n",
    "    \"price\": 500,\n",
    "    \"category\": \"Hombre\"\n",
    "}\n",
    "\n",
    "# Imprimir ruta de la imagen para depuración\n",
    "print(f\"Usando imagen en: {image_path}\")\n",
    "\n",
    "with open(image_path, \"rb\") as image_file:\n",
    "    files = {\"file\": image_file}\n",
    "    response = requests.post(\"http://localhost:8001/products/\", data=product_data, files=files)\n",
    "\n",
    "if response.status_code == 200:\n",
    "    print(response.json())"
   ]
  },
  {
   "cell_type": "code",
   "execution_count": 29,
   "metadata": {},
   "outputs": [
    {
     "name": "stdout",
     "output_type": "stream",
     "text": [
      "Usando imagen en: /home/egp/ejercicios_capacitacion_chelita/ejercicios_JS/tienda-con-bulma/assets/h2.jpg\n",
      "{'id': 2, 'name': 'Pantalones Chinos', 'price': 600.0, 'category': 'Hombre', 'image': 'https://res.cloudinary.com/dfe12pm1m/image/upload/v1743621026/jaaxfrenvfdyfn28xvj2.jpg'}\n"
     ]
    }
   ],
   "source": [
    "# POST para Producto\n",
    "\n",
    "# Obtener la ruta absoluta de la imagen\n",
    "image_filename = \"h2.jpg\"  # Nombre del archivo\n",
    "image_folder = os.path.abspath(os.path.join(\"../../ejercicios_JS/tienda-con-bulma/\", \"assets\"))  # Ruta de la carpeta de imágenes\n",
    "image_path = os.path.join(image_folder, image_filename)  # Ruta completa\n",
    "\n",
    "# Verificar si la imagen existe antes de abrirla\n",
    "if not os.path.exists(image_path):\n",
    "    raise FileNotFoundError(f\"La imagen '{image_path}' no existe. Verifica la ruta.\")\n",
    "\n",
    "product_data = {\n",
    "    \"name\": \"Pantalones Chinos\",\n",
    "    \"price\": 600,\n",
    "    \"category\": \"Hombre\"\n",
    "}\n",
    "\n",
    "# Imprimir ruta de la imagen para depuración\n",
    "print(f\"Usando imagen en: {image_path}\")\n",
    "\n",
    "with open(image_path, \"rb\") as image_file:\n",
    "    files = {\"file\": image_file}\n",
    "    response = requests.post(\"http://localhost:8001/products/\", data=product_data, files=files)\n",
    "\n",
    "if response.status_code == 200:\n",
    "    print(response.json())"
   ]
  },
  {
   "cell_type": "code",
   "execution_count": 30,
   "metadata": {},
   "outputs": [
    {
     "name": "stdout",
     "output_type": "stream",
     "text": [
      "Usando imagen en: /home/egp/ejercicios_capacitacion_chelita/ejercicios_JS/tienda-con-bulma/assets/h3.jpg\n",
      "{'id': 3, 'name': 'Camisa Italiana', 'price': 700.0, 'category': 'Hombre', 'image': 'https://res.cloudinary.com/dfe12pm1m/image/upload/v1743621031/zb4p3bm6m9fd4f4ulqs6.jpg'}\n"
     ]
    }
   ],
   "source": [
    "# POST para Producto\n",
    "\n",
    "# Obtener la ruta absoluta de la imagen\n",
    "image_filename = \"h3.jpg\"  # Nombre del archivo\n",
    "image_folder = os.path.abspath(os.path.join(\"../../ejercicios_JS/tienda-con-bulma/\", \"assets\"))  # Ruta de la carpeta de imágenes\n",
    "image_path = os.path.join(image_folder, image_filename)  # Ruta completa\n",
    "\n",
    "# Verificar si la imagen existe antes de abrirla\n",
    "if not os.path.exists(image_path):\n",
    "    raise FileNotFoundError(f\"La imagen '{image_path}' no existe. Verifica la ruta.\")\n",
    "\n",
    "product_data = {\n",
    "    \"name\": \"Camisa Italiana\",\n",
    "    \"price\": 700,\n",
    "    \"category\": \"Hombre\"\n",
    "}\n",
    "\n",
    "# Imprimir ruta de la imagen para depuración\n",
    "print(f\"Usando imagen en: {image_path}\")\n",
    "\n",
    "with open(image_path, \"rb\") as image_file:\n",
    "    files = {\"file\": image_file}\n",
    "    response = requests.post(\"http://localhost:8001/products/\", data=product_data, files=files)\n",
    "\n",
    "if response.status_code == 200:\n",
    "    print(response.json())"
   ]
  },
  {
   "cell_type": "code",
   "execution_count": 31,
   "metadata": {},
   "outputs": [
    {
     "name": "stdout",
     "output_type": "stream",
     "text": [
      "Usando imagen en: /home/egp/ejercicios_capacitacion_chelita/ejercicios_JS/tienda-con-bulma/assets/h4.jpg\n",
      "{'id': 4, 'name': 'Playera básica', 'price': 900.0, 'category': 'Hombre', 'image': 'https://res.cloudinary.com/dfe12pm1m/image/upload/v1743621036/dhonufajt5uy53msckoj.jpg'}\n"
     ]
    }
   ],
   "source": [
    "# POST para Producto\n",
    "\n",
    "# Obtener la ruta absoluta de la imagen\n",
    "image_filename = \"h4.jpg\"  # Nombre del archivo\n",
    "image_folder = os.path.abspath(os.path.join(\"../../ejercicios_JS/tienda-con-bulma/\", \"assets\"))  # Ruta de la carpeta de imágenes\n",
    "image_path = os.path.join(image_folder, image_filename)  # Ruta completa\n",
    "\n",
    "# Verificar si la imagen existe antes de abrirla\n",
    "if not os.path.exists(image_path):\n",
    "    raise FileNotFoundError(f\"La imagen '{image_path}' no existe. Verifica la ruta.\")\n",
    "\n",
    "product_data = {\n",
    "    \"name\": \"Playera básica\",\n",
    "    \"price\": 900,\n",
    "    \"category\": \"Hombre\"\n",
    "}\n",
    "\n",
    "# Imprimir ruta de la imagen para depuración\n",
    "print(f\"Usando imagen en: {image_path}\")\n",
    "\n",
    "with open(image_path, \"rb\") as image_file:\n",
    "    files = {\"file\": image_file}\n",
    "    response = requests.post(\"http://localhost:8001/products/\", data=product_data, files=files)\n",
    "\n",
    "if response.status_code == 200:\n",
    "    print(response.json())"
   ]
  },
  {
   "cell_type": "code",
   "execution_count": 32,
   "metadata": {},
   "outputs": [
    {
     "name": "stdout",
     "output_type": "stream",
     "text": [
      "Usando imagen en: /home/egp/ejercicios_capacitacion_chelita/ejercicios_JS/tienda-con-bulma/assets/h5.jpg\n",
      "{'id': 5, 'name': 'Lentes Trench', 'price': 1200.0, 'category': 'Hombre', 'image': 'https://res.cloudinary.com/dfe12pm1m/image/upload/v1743621041/jkq6j9ele6lw3fwkucly.jpg'}\n"
     ]
    }
   ],
   "source": [
    "# POST para Producto\n",
    "\n",
    "# Obtener la ruta absoluta de la imagen\n",
    "image_filename = \"h5.jpg\"  # Nombre del archivo\n",
    "image_folder = os.path.abspath(os.path.join(\"../../ejercicios_JS/tienda-con-bulma/\", \"assets\"))  # Ruta de la carpeta de imágenes\n",
    "image_path = os.path.join(image_folder, image_filename)  # Ruta completa\n",
    "\n",
    "# Verificar si la imagen existe antes de abrirla\n",
    "if not os.path.exists(image_path):\n",
    "    raise FileNotFoundError(f\"La imagen '{image_path}' no existe. Verifica la ruta.\")\n",
    "\n",
    "product_data = {\n",
    "    \"name\": \"Lentes Trench\",\n",
    "    \"price\": 1200,\n",
    "    \"category\": \"Hombre\"\n",
    "}\n",
    "\n",
    "# Imprimir ruta de la imagen para depuración\n",
    "print(f\"Usando imagen en: {image_path}\")\n",
    "\n",
    "with open(image_path, \"rb\") as image_file:\n",
    "    files = {\"file\": image_file}\n",
    "    response = requests.post(\"http://localhost:8001/products/\", data=product_data, files=files)\n",
    "\n",
    "if response.status_code == 200:\n",
    "    print(response.json())"
   ]
  },
  {
   "cell_type": "code",
   "execution_count": 33,
   "metadata": {},
   "outputs": [
    {
     "name": "stdout",
     "output_type": "stream",
     "text": [
      "Usando imagen en: /home/egp/ejercicios_capacitacion_chelita/ejercicios_JS/tienda-con-bulma/assets/h6.jpg\n",
      "{'id': 6, 'name': 'Camisa Trench', 'price': 300.0, 'category': 'Hombre', 'image': 'https://res.cloudinary.com/dfe12pm1m/image/upload/v1743621047/z1yonh3xdsh6yjcec6el.jpg'}\n"
     ]
    }
   ],
   "source": [
    "# POST para Producto\n",
    "\n",
    "# Obtener la ruta absoluta de la imagen\n",
    "image_filename = \"h6.jpg\"  # Nombre del archivo\n",
    "image_folder = os.path.abspath(os.path.join(\"../../ejercicios_JS/tienda-con-bulma/\", \"assets\"))  # Ruta de la carpeta de imágenes\n",
    "image_path = os.path.join(image_folder, image_filename)  # Ruta completa\n",
    "\n",
    "# Verificar si la imagen existe antes de abrirlahhhhhhhhhhhh\n",
    "if not os.path.exists(image_path):\n",
    "    raise FileNotFoundError(f\"La imagen '{image_path}' no existe. Verifica la ruta.\")\n",
    "\n",
    "product_data = {\n",
    "    \"name\": \"Camisa Trench\",\n",
    "    \"price\": 300,\n",
    "    \"category\": \"Hombre\"\n",
    "}\n",
    "\n",
    "# Imprimir ruta de la imagen para depuración\n",
    "print(f\"Usando imagen en: {image_path}\")\n",
    "\n",
    "with open(image_path, \"rb\") as image_file:\n",
    "    files = {\"file\": image_file}\n",
    "    response = requests.post(\"http://localhost:8001/products/\", data=product_data, files=files)\n",
    "\n",
    "if response.status_code == 200:\n",
    "    print(response.json())"
   ]
  },
  {
   "cell_type": "code",
   "execution_count": 34,
   "metadata": {},
   "outputs": [
    {
     "name": "stdout",
     "output_type": "stream",
     "text": [
      "Usando imagen en: /home/egp/ejercicios_capacitacion_chelita/ejercicios_JS/tienda-con-bulma/assets/h7.jpg\n",
      "{'id': 7, 'name': 'Camisa King', 'price': 650.0, 'category': 'Hombre', 'image': 'https://res.cloudinary.com/dfe12pm1m/image/upload/v1743621054/crdjz9xffax7qyeahqkm.jpg'}\n"
     ]
    }
   ],
   "source": [
    "# POST para Producto\n",
    "\n",
    "# Obtener la ruta absoluta de la imagen\n",
    "image_filename = \"h7.jpg\"  # Nombre del archivo\n",
    "image_folder = os.path.abspath(os.path.join(\"../../ejercicios_JS/tienda-con-bulma/\", \"assets\"))  # Ruta de la carpeta de imágenes\n",
    "image_path = os.path.join(image_folder, image_filename)  # Ruta completa\n",
    "\n",
    "# Verificar si la imagen existe antes de abrirla\n",
    "if not os.path.exists(image_path):\n",
    "    raise FileNotFoundError(f\"La imagen '{image_path}' no existe. Verifica la ruta.\")\n",
    "\n",
    "product_data = {\n",
    "    \"name\": \"Camisa King\",\n",
    "    \"price\": 650,\n",
    "    \"category\": \"Hombre\"\n",
    "}\n",
    "\n",
    "# Imprimir ruta de la imagen para depuración\n",
    "print(f\"Usando imagen en: {image_path}\")\n",
    "\n",
    "with open(image_path, \"rb\") as image_file:\n",
    "    files = {\"file\": image_file}\n",
    "    response = requests.post(\"http://localhost:8001/products/\", data=product_data, files=files)\n",
    "\n",
    "if response.status_code == 200:\n",
    "    print(response.json())"
   ]
  },
  {
   "cell_type": "code",
   "execution_count": 35,
   "metadata": {},
   "outputs": [
    {
     "name": "stdout",
     "output_type": "stream",
     "text": [
      "Usando imagen en: /home/egp/ejercicios_capacitacion_chelita/ejercicios_JS/tienda-con-bulma/assets/h8.jpg\n",
      "{'id': 8, 'name': 'Camisa Cargo', 'price': 700.0, 'category': 'Hombre', 'image': 'https://res.cloudinary.com/dfe12pm1m/image/upload/v1743621122/y14v1ucf6dceeevs0hya.jpg'}\n"
     ]
    }
   ],
   "source": [
    "# POST para Producto\n",
    "\n",
    "# Obtener la ruta absoluta de la imagen\n",
    "image_filename = \"h8.jpg\"  # Nombre del archivo\n",
    "image_folder = os.path.abspath(os.path.join(\"../../ejercicios_JS/tienda-con-bulma/\", \"assets\"))  # Ruta de la carpeta de imágenes\n",
    "image_path = os.path.join(image_folder, image_filename)  # Ruta completa\n",
    "\n",
    "# Verificar si la imagen existe antes de abrirla\n",
    "if not os.path.exists(image_path):\n",
    "    raise FileNotFoundError(f\"La imagen '{image_path}' no existe. Verifica la ruta.\")\n",
    "\n",
    "product_data = {\n",
    "    \"name\": \"Camisa Cargo\",\n",
    "    \"price\": 700,\n",
    "    \"category\": \"Hombre\"\n",
    "}\n",
    "\n",
    "# Imprimir ruta de la imagen para depuración\n",
    "print(f\"Usando imagen en: {image_path}\")\n",
    "\n",
    "with open(image_path, \"rb\") as image_file:\n",
    "    files = {\"file\": image_file}\n",
    "    response = requests.post(\"http://localhost:8001/products/\", data=product_data, files=files)\n",
    "\n",
    "if response.status_code == 200:\n",
    "    print(response.json())"
   ]
  },
  {
   "cell_type": "code",
   "execution_count": 36,
   "metadata": {},
   "outputs": [
    {
     "name": "stdout",
     "output_type": "stream",
     "text": [
      "Usando imagen en: /home/egp/ejercicios_capacitacion_chelita/ejercicios_JS/tienda-con-bulma/assets/h9.jpg\n",
      "{'id': 9, 'name': 'Gorro acolchado', 'price': 800.0, 'category': 'Hombre', 'image': 'https://res.cloudinary.com/dfe12pm1m/image/upload/v1743621165/x8ouw0y9dcromyegf1ia.jpg'}\n"
     ]
    }
   ],
   "source": [
    "# POST para Producto\n",
    "\n",
    "# Obtener la ruta absoluta de la imagen\n",
    "image_filename = \"h9.jpg\"  # Nombre del archivo\n",
    "image_folder = os.path.abspath(os.path.join(\"../../ejercicios_JS/tienda-con-bulma/\", \"assets\"))  # Ruta de la carpeta de imágenes\n",
    "image_path = os.path.join(image_folder, image_filename)  # Ruta completa\n",
    "\n",
    "# Verificar si la imagen existe antes de abrirla\n",
    "if not os.path.exists(image_path):\n",
    "    raise FileNotFoundError(f\"La imagen '{image_path}' no existe. Verifica la ruta.\")\n",
    "\n",
    "product_data = {\n",
    "    \"name\": \"Gorro acolchado\",\n",
    "    \"price\": 800,\n",
    "    \"category\": \"Hombre\"\n",
    "}\n",
    "\n",
    "# Imprimir ruta de la imagen para depuración\n",
    "print(f\"Usando imagen en: {image_path}\")\n",
    "\n",
    "with open(image_path, \"rb\") as image_file:\n",
    "    files = {\"file\": image_file}\n",
    "    response = requests.post(\"http://localhost:8001/products/\", data=product_data, files=files)\n",
    "\n",
    "if response.status_code == 200:\n",
    "    print(response.json())"
   ]
  },
  {
   "cell_type": "code",
   "execution_count": 37,
   "metadata": {},
   "outputs": [
    {
     "name": "stdout",
     "output_type": "stream",
     "text": [
      "Usando imagen en: /home/egp/ejercicios_capacitacion_chelita/ejercicios_JS/tienda-con-bulma/assets/h10.jpg\n",
      "{'id': 10, 'name': 'Playera Slim Fit', 'price': 1000.0, 'category': 'Hombre', 'image': 'https://res.cloudinary.com/dfe12pm1m/image/upload/v1743621200/bamo9nz3tvyiuxapywbb.jpg'}\n"
     ]
    }
   ],
   "source": [
    "# POST para Producto\n",
    "\n",
    "# Obtener la ruta absoluta de la imagen\n",
    "image_filename = \"h10.jpg\"  # Nombre del archivo\n",
    "image_folder = os.path.abspath(os.path.join(\"../../ejercicios_JS/tienda-con-bulma/\", \"assets\"))  # Ruta de la carpeta de imágenes\n",
    "image_path = os.path.join(image_folder, image_filename)  # Ruta completa\n",
    "\n",
    "# Verificar si la imagen existe antes de abrirla\n",
    "if not os.path.exists(image_path):\n",
    "    raise FileNotFoundError(f\"La imagen '{image_path}' no existe. Verifica la ruta.\")\n",
    "\n",
    "product_data = {\n",
    "    \"name\": \"Playera Slim Fit\",\n",
    "    \"price\": 1000,\n",
    "    \"category\": \"Hombre\"\n",
    "}\n",
    "\n",
    "# Imprimir ruta de la imagen para depuración\n",
    "print(f\"Usando imagen en: {image_path}\")\n",
    "\n",
    "with open(image_path, \"rb\") as image_file:\n",
    "    files = {\"file\": image_file}\n",
    "    response = requests.post(\"http://localhost:8001/products/\", data=product_data, files=files)\n",
    "\n",
    "if response.status_code == 200:\n",
    "    print(response.json())"
   ]
  },
  {
   "cell_type": "code",
   "execution_count": 38,
   "metadata": {},
   "outputs": [
    {
     "name": "stdout",
     "output_type": "stream",
     "text": [
      "Usando imagen en: /home/egp/ejercicios_capacitacion_chelita/ejercicios_JS/tienda-con-bulma/assets/h11.jpg\n",
      "{'id': 11, 'name': 'Playera deportiva', 'price': 550.0, 'category': 'Hombre', 'image': 'https://res.cloudinary.com/dfe12pm1m/image/upload/v1743621237/h9hwhn6mctky4vyzxid8.jpg'}\n"
     ]
    }
   ],
   "source": [
    "# POST para Producto\n",
    "\n",
    "# Obtener la ruta absoluta de la imagen\n",
    "image_filename = \"h11.jpg\"  # Nombre del archivo\n",
    "image_folder = os.path.abspath(os.path.join(\"../../ejercicios_JS/tienda-con-bulma/\", \"assets\"))  # Ruta de la carpeta de imágenes\n",
    "image_path = os.path.join(image_folder, image_filename)  # Ruta completa\n",
    "\n",
    "# Verificar si la imagen existe antes de abrirla\n",
    "if not os.path.exists(image_path):\n",
    "    raise FileNotFoundError(f\"La imagen '{image_path}' no existe. Verifica la ruta.\")\n",
    "\n",
    "product_data = {\n",
    "    \"name\": \"Playera deportiva\",\n",
    "    \"price\": 550,\n",
    "    \"category\": \"Hombre\"\n",
    "}\n",
    "\n",
    "# Imprimir ruta de la imagen para depuración\n",
    "print(f\"Usando imagen en: {image_path}\")\n",
    "\n",
    "with open(image_path, \"rb\") as image_file:\n",
    "    files = {\"file\": image_file}\n",
    "    response = requests.post(\"http://localhost:8001/products/\", data=product_data, files=files)\n",
    "\n",
    "if response.status_code == 200:\n",
    "    print(response.json())"
   ]
  },
  {
   "cell_type": "code",
   "execution_count": 39,
   "metadata": {},
   "outputs": [
    {
     "name": "stdout",
     "output_type": "stream",
     "text": [
      "Usando imagen en: /home/egp/ejercicios_capacitacion_chelita/ejercicios_JS/tienda-con-bulma/assets/h12.jpg\n",
      "{'id': 12, 'name': 'Pantalones de lino', 'price': 750.0, 'category': 'Hombre', 'image': 'https://res.cloudinary.com/dfe12pm1m/image/upload/v1743621270/vwzxxi7t1blz076slky6.jpg'}\n"
     ]
    }
   ],
   "source": [
    "# POST para Producto\n",
    "\n",
    "# Obtener la ruta absoluta de la imagen\n",
    "image_filename = \"h12.jpg\"  # Nombre del archivo\n",
    "image_folder = os.path.abspath(os.path.join(\"../../ejercicios_JS/tienda-con-bulma/\", \"assets\"))  # Ruta de la carpeta de imágenes\n",
    "image_path = os.path.join(image_folder, image_filename)  # Ruta completa\n",
    "\n",
    "# Verificar si la imagen existe antes de abrirla\n",
    "if not os.path.exists(image_path):\n",
    "    raise FileNotFoundError(f\"La imagen '{image_path}' no existe. Verifica la ruta.\")\n",
    "\n",
    "product_data = {\n",
    "    \"name\": \"Pantalones de lino\",\n",
    "    \"price\": 750,\n",
    "    \"category\": \"Hombre\"\n",
    "}\n",
    "\n",
    "# Imprimir ruta de la imagen para depuración\n",
    "print(f\"Usando imagen en: {image_path}\")\n",
    "\n",
    "with open(image_path, \"rb\") as image_file:\n",
    "    files = {\"file\": image_file}\n",
    "    response = requests.post(\"http://localhost:8001/products/\", data=product_data, files=files)\n",
    "\n",
    "if response.status_code == 200:\n",
    "    print(response.json())"
   ]
  },
  {
   "cell_type": "code",
   "execution_count": 40,
   "metadata": {},
   "outputs": [
    {
     "name": "stdout",
     "output_type": "stream",
     "text": [
      "Usando imagen en: /home/egp/ejercicios_capacitacion_chelita/ejercicios_JS/tienda-con-bulma/assets/h13.jpg\n",
      "{'id': 13, 'name': 'Polo de manga corta', 'price': 400.0, 'category': 'Hombre', 'image': 'https://res.cloudinary.com/dfe12pm1m/image/upload/v1743621296/kx1nxo7tvmnxg2v7n7gv.jpg'}\n"
     ]
    }
   ],
   "source": [
    "# POST para Producto\n",
    "\n",
    "# Obtener la ruta absoluta de la imagen\n",
    "image_filename = \"h13.jpg\"  # Nombre del archivo\n",
    "image_folder = os.path.abspath(os.path.join(\"../../ejercicios_JS/tienda-con-bulma/\", \"assets\"))  # Ruta de la carpeta de imágenes\n",
    "image_path = os.path.join(image_folder, image_filename)  # Ruta completa\n",
    "\n",
    "# Verificar si la imagen existe antes de abrirla\n",
    "if not os.path.exists(image_path):\n",
    "    raise FileNotFoundError(f\"La imagen '{image_path}' no existe. Verifica la ruta.\")\n",
    "\n",
    "product_data = {\n",
    "    \"name\": \"Polo de manga corta\",\n",
    "    \"price\": 400,\n",
    "    \"category\": \"Hombre\"\n",
    "}\n",
    "\n",
    "# Imprimir ruta de la imagen para depuración\n",
    "print(f\"Usando imagen en: {image_path}\")\n",
    "\n",
    "with open(image_path, \"rb\") as image_file:\n",
    "    files = {\"file\": image_file}\n",
    "    response = requests.post(\"http://localhost:8001/products/\", data=product_data, files=files)\n",
    "\n",
    "if response.status_code == 200:\n",
    "    print(response.json())"
   ]
  },
  {
   "cell_type": "code",
   "execution_count": 41,
   "metadata": {},
   "outputs": [
    {
     "name": "stdout",
     "output_type": "stream",
     "text": [
      "Usando imagen en: /home/egp/ejercicios_capacitacion_chelita/ejercicios_JS/tienda-con-bulma/assets/h14.jpg\n",
      "{'id': 14, 'name': 'Camisa jacket', 'price': 950.0, 'category': 'Hombre', 'image': 'https://res.cloudinary.com/dfe12pm1m/image/upload/v1743621331/jm7yuiqmyisrgkxwycjf.jpg'}\n"
     ]
    }
   ],
   "source": [
    "# POST para Producto\n",
    "\n",
    "# Obtener la ruta absoluta de la imagen\n",
    "image_filename = \"h14.jpg\"  # Nombre del archivo\n",
    "image_folder = os.path.abspath(os.path.join(\"../../ejercicios_JS/tienda-con-bulma/\", \"assets\"))  # Ruta de la carpeta de imágenes\n",
    "image_path = os.path.join(image_folder, image_filename)  # Ruta completa\n",
    "\n",
    "# Verificar si la imagen existe antes de abrirla\n",
    "if not os.path.exists(image_path):\n",
    "    raise FileNotFoundError(f\"La imagen '{image_path}' no existe. Verifica la ruta.\")\n",
    "\n",
    "product_data = {\n",
    "    \"name\": \"Camisa jacket\",\n",
    "    \"price\": 950,\n",
    "    \"category\": \"Hombre\"\n",
    "}\n",
    "\n",
    "# Imprimir ruta de la imagen para depuración\n",
    "print(f\"Usando imagen en: {image_path}\")\n",
    "\n",
    "with open(image_path, \"rb\") as image_file:\n",
    "    files = {\"file\": image_file}\n",
    "    response = requests.post(\"http://localhost:8001/products/\", data=product_data, files=files)\n",
    "\n",
    "if response.status_code == 200:\n",
    "    print(response.json())"
   ]
  },
  {
   "cell_type": "code",
   "execution_count": 42,
   "metadata": {},
   "outputs": [
    {
     "name": "stdout",
     "output_type": "stream",
     "text": [
      "Usando imagen en: /home/egp/ejercicios_capacitacion_chelita/ejercicios_JS/tienda-con-bulma/assets/h15.jpg\n",
      "{'id': 15, 'name': 'Traje black', 'price': 2500.0, 'category': 'Hombre', 'image': 'https://res.cloudinary.com/dfe12pm1m/image/upload/v1743621362/cg6hrwu6fwyio3znz17t.jpg'}\n"
     ]
    }
   ],
   "source": [
    "# POST para Producto\n",
    "\n",
    "# Obtener la ruta absoluta de la imagen\n",
    "image_filename = \"h15.jpg\"  # Nombre del archivo\n",
    "image_folder = os.path.abspath(os.path.join(\"../../ejercicios_JS/tienda-con-bulma/\", \"assets\"))  # Ruta de la carpeta de imágenes\n",
    "image_path = os.path.join(image_folder, image_filename)  # Ruta completa\n",
    "\n",
    "# Verificar si la imagen existe antes de abrirla\n",
    "if not os.path.exists(image_path):\n",
    "    raise FileNotFoundError(f\"La imagen '{image_path}' no existe. Verifica la ruta.\")\n",
    "\n",
    "product_data = {\n",
    "    \"name\": \"Traje black\",\n",
    "    \"price\": 2500,\n",
    "    \"category\": \"Hombre\"\n",
    "}\n",
    "\n",
    "# Imprimir ruta de la imagen para depuración\n",
    "print(f\"Usando imagen en: {image_path}\")\n",
    "\n",
    "with open(image_path, \"rb\") as image_file:\n",
    "    files = {\"file\": image_file}\n",
    "    response = requests.post(\"http://localhost:8001/products/\", data=product_data, files=files)\n",
    "\n",
    "if response.status_code == 200:\n",
    "    print(response.json())"
   ]
  },
  {
   "cell_type": "code",
   "execution_count": 43,
   "metadata": {},
   "outputs": [
    {
     "name": "stdout",
     "output_type": "stream",
     "text": [
      "Usando imagen en: /home/egp/ejercicios_capacitacion_chelita/ejercicios_JS/tienda-con-bulma/assets/m1.jpg\n",
      "{'id': 16, 'name': 'Blusa de Seda', 'price': 450.0, 'category': 'Mujer', 'image': 'https://res.cloudinary.com/dfe12pm1m/image/upload/v1743621678/dcljughdqkkx7r31mfgd.jpg'}\n"
     ]
    }
   ],
   "source": [
    "# POST para Producto\n",
    "\n",
    "import os\n",
    "# Obtener la ruta absoluta de la imagen\n",
    "image_filename = \"m1.jpg\"  # Nombre del archivo\n",
    "image_folder = os.path.abspath(os.path.join(\"/home/egp/ejercicios_capacitacion_chelita/ejercicios_JS/tienda-con-bulma/\", \"assets\"))  # Ruta de la carpeta de imágenes\n",
    "image_path = os.path.join(image_folder, image_filename)  # Ruta completa\n",
    "\n",
    "# Verificar si la imagen existe antes de abrirla\n",
    "if not os.path.exists(image_path):\n",
    "    raise FileNotFoundError(f\"La imagen '{image_path}' no existe. Verifica la ruta.\")\n",
    "\n",
    "product_data = {\n",
    "    \"name\": \"Blusa de Seda\",\n",
    "    \"price\": 450,\n",
    "    \"category\": \"Mujer\"\n",
    "}\n",
    "\n",
    "# Imprimir ruta de la imagen para depuración\n",
    "print(f\"Usando imagen en: {image_path}\")\n",
    "\n",
    "with open(image_path, \"rb\") as image_file:\n",
    "    files = {\"file\": image_file}\n",
    "    response = requests.post(\"http://localhost:8001/products/\", data=product_data, files=files)\n",
    "\n",
    "if response.status_code == 200:\n",
    "    print(response.json())"
   ]
  },
  {
   "cell_type": "code",
   "execution_count": 44,
   "metadata": {},
   "outputs": [
    {
     "name": "stdout",
     "output_type": "stream",
     "text": [
      "Usando imagen en: /home/egp/ejercicios_capacitacion_chelita/ejercicios_JS/tienda-con-bulma/assets/m2.jpg\n",
      "{'id': 17, 'name': 'Chaqueta Slim', 'price': 550.0, 'category': 'Mujer', 'image': 'https://res.cloudinary.com/dfe12pm1m/image/upload/v1743621696/g98rp3cvx9fosr6nmyk3.jpg'}\n"
     ]
    }
   ],
   "source": [
    "# POST para Producto\n",
    "\n",
    "# Obtener la ruta absoluta de la imagen\n",
    "image_filename = \"m2.jpg\"  # Nombre del archivo\n",
    "image_folder = os.path.abspath(os.path.join(\"../../ejercicios_JS/tienda-con-bulma/\", \"assets\"))  # Ruta de la carpeta de imágenes\n",
    "image_path = os.path.join(image_folder, image_filename)  # Ruta completa\n",
    "\n",
    "# Verificar si la imagen existe antes de abrirla\n",
    "if not os.path.exists(image_path):\n",
    "    raise FileNotFoundError(f\"La imagen '{image_path}' no existe. Verifica la ruta.\")\n",
    "\n",
    "product_data = {\n",
    "    \"name\": \"Chaqueta Slim\",\n",
    "    \"price\": 550,\n",
    "    \"category\": \"Mujer\"\n",
    "}\n",
    "\n",
    "# Imprimir ruta de la imagen para depuración\n",
    "print(f\"Usando imagen en: {image_path}\")\n",
    "\n",
    "with open(image_path, \"rb\") as image_file:\n",
    "    files = {\"file\": image_file}\n",
    "    response = requests.post(\"http://localhost:8001/products/\", data=product_data, files=files)\n",
    "\n",
    "if response.status_code == 200:\n",
    "    print(response.json())"
   ]
  },
  {
   "cell_type": "code",
   "execution_count": 45,
   "metadata": {},
   "outputs": [
    {
     "name": "stdout",
     "output_type": "stream",
     "text": [
      "Usando imagen en: /home/egp/ejercicios_capacitacion_chelita/ejercicios_JS/tienda-con-bulma/assets/m3.jpg\n",
      "{'id': 18, 'name': 'Pantalones Midi', 'price': 400.0, 'category': 'Mujer', 'image': 'https://res.cloudinary.com/dfe12pm1m/image/upload/v1743621710/lxbxbowxz2fnfwdmuv3h.jpg'}\n"
     ]
    }
   ],
   "source": [
    "# POST para Producto\n",
    "\n",
    "# Obtener la ruta absoluta de la imagen\n",
    "image_filename = \"m3.jpg\"  # Nombre del archivo\n",
    "image_folder = os.path.abspath(os.path.join(\"../../ejercicios_JS/tienda-con-bulma/\", \"assets\"))  # Ruta de la carpeta de imágenes\n",
    "image_path = os.path.join(image_folder, image_filename)  # Ruta completa\n",
    "\n",
    "# Verificar si la imagen existe antes de abrirla\n",
    "if not os.path.exists(image_path):\n",
    "    raise FileNotFoundError(f\"La imagen '{image_path}' no existe. Verifica la ruta.\")\n",
    "\n",
    "product_data = {\n",
    "    \"name\": \"Pantalones Midi\",\n",
    "    \"price\": 400,\n",
    "    \"category\": \"Mujer\"\n",
    "}\n",
    "\n",
    "# Imprimir ruta de la imagen para depuración\n",
    "print(f\"Usando imagen en: {image_path}\")\n",
    "\n",
    "with open(image_path, \"rb\") as image_file:\n",
    "    files = {\"file\": image_file}\n",
    "    response = requests.post(\"http://localhost:8001/products/\", data=product_data, files=files)\n",
    "\n",
    "if response.status_code == 200:\n",
    "    print(response.json())"
   ]
  },
  {
   "cell_type": "code",
   "execution_count": 46,
   "metadata": {},
   "outputs": [
    {
     "name": "stdout",
     "output_type": "stream",
     "text": [
      "Usando imagen en: /home/egp/ejercicios_capacitacion_chelita/ejercicios_JS/tienda-con-bulma/assets/m4.jpg\n",
      "{'id': 19, 'name': 'Traje Blue', 'price': 900.0, 'category': 'Mujer', 'image': 'https://res.cloudinary.com/dfe12pm1m/image/upload/v1743621725/wnkdcgyk4dibbywbuofc.jpg'}\n"
     ]
    }
   ],
   "source": [
    "# POST para Producto\n",
    "\n",
    "# Obtener la ruta absoluta de la imagen\n",
    "image_filename = \"m4.jpg\"  # Nombre del archivo\n",
    "image_folder = os.path.abspath(os.path.join(\"../../ejercicios_JS/tienda-con-bulma/\", \"assets\"))  # Ruta de la carpeta de imágenes\n",
    "image_path = os.path.join(image_folder, image_filename)  # Ruta completa\n",
    "\n",
    "# Verificar si la imagen existe antes de abrirla\n",
    "if not os.path.exists(image_path):\n",
    "    raise FileNotFoundError(f\"La imagen '{image_path}' no existe. Verifica la ruta.\")\n",
    "\n",
    "product_data = {\n",
    "    \"name\": \"Traje Blue\",\n",
    "    \"price\": 900,\n",
    "    \"category\": \"Mujer\"\n",
    "}\n",
    "\n",
    "# Imprimir ruta de la imagen para depuración\n",
    "print(f\"Usando imagen en: {image_path}\")\n",
    "\n",
    "with open(image_path, \"rb\") as image_file:\n",
    "    files = {\"file\": image_file}\n",
    "    response = requests.post(\"http://localhost:8001/products/\", data=product_data, files=files)\n",
    "\n",
    "if response.status_code == 200:\n",
    "    print(response.json())"
   ]
  },
  {
   "cell_type": "code",
   "execution_count": 47,
   "metadata": {},
   "outputs": [
    {
     "name": "stdout",
     "output_type": "stream",
     "text": [
      "Usando imagen en: /home/egp/ejercicios_capacitacion_chelita/ejercicios_JS/tienda-con-bulma/assets/m5.jpg\n",
      "{'id': 20, 'name': 'Falda de noche', 'price': 1200.0, 'category': 'Mujer', 'image': 'https://res.cloudinary.com/dfe12pm1m/image/upload/v1743621752/vp4iclisuj5svzhwofr2.jpg'}\n"
     ]
    }
   ],
   "source": [
    "# POST para Producto\n",
    "\n",
    "# Obtener la ruta absoluta de la imagen\n",
    "image_filename = \"m5.jpg\"  # Nombre del archivo\n",
    "image_folder = os.path.abspath(os.path.join(\"../../ejercicios_JS/tienda-con-bulma/\", \"assets\"))  # Ruta de la carpeta de imágenes\n",
    "image_path = os.path.join(image_folder, image_filename)  # Ruta completa\n",
    "\n",
    "# Verificar si la imagen existe antes de abrirla\n",
    "if not os.path.exists(image_path):\n",
    "    raise FileNotFoundError(f\"La imagen '{image_path}' no existe. Verifica la ruta.\")\n",
    "\n",
    "product_data = {\n",
    "    \"name\": \"Falda de noche\",\n",
    "    \"price\": 1200,\n",
    "    \"category\": \"Mujer\"\n",
    "}\n",
    "\n",
    "# Imprimir ruta de la imagen para depuración\n",
    "print(f\"Usando imagen en: {image_path}\")\n",
    "\n",
    "with open(image_path, \"rb\") as image_file:\n",
    "    files = {\"file\": image_file}\n",
    "    response = requests.post(\"http://localhost:8001/products/\", data=product_data, files=files)\n",
    "\n",
    "if response.status_code == 200:\n",
    "    print(response.json())"
   ]
  },
  {
   "cell_type": "code",
   "execution_count": 48,
   "metadata": {},
   "outputs": [
    {
     "name": "stdout",
     "output_type": "stream",
     "text": [
      "Usando imagen en: /home/egp/ejercicios_capacitacion_chelita/ejercicios_JS/tienda-con-bulma/assets/m6.jpg\n",
      "{'id': 21, 'name': 'Vestido mazaht', 'price': 300.0, 'category': 'Mujer', 'image': 'https://res.cloudinary.com/dfe12pm1m/image/upload/v1743621785/yctb5vtxkcazyo3osv0z.jpg'}\n"
     ]
    }
   ],
   "source": [
    "# POST para Producto\n",
    "\n",
    "# Obtener la ruta absoluta de la imagen\n",
    "image_filename = \"m6.jpg\"  # Nombre del archivo\n",
    "image_folder = os.path.abspath(os.path.join(\"../../ejercicios_JS/tienda-con-bulma/\", \"assets\"))  # Ruta de la carpeta de imágenes\n",
    "image_path = os.path.join(image_folder, image_filename)  # Ruta completa\n",
    "\n",
    "# Verificar si la imagen existe antes de abrirla\n",
    "if not os.path.exists(image_path):\n",
    "    raise FileNotFoundError(f\"La imagen '{image_path}' no existe. Verifica la ruta.\")\n",
    "\n",
    "product_data = {\n",
    "    \"name\": \"Vestido mazaht\",\n",
    "    \"price\": 300,\n",
    "    \"category\": \"Mujer\"\n",
    "}\n",
    "\n",
    "# Imprimir ruta de la imagen para depuración\n",
    "print(f\"Usando imagen en: {image_path}\")\n",
    "\n",
    "with open(image_path, \"rb\") as image_file:\n",
    "    files = {\"file\": image_file}\n",
    "    response = requests.post(\"http://localhost:8001/products/\", data=product_data, files=files)\n",
    "\n",
    "if response.status_code == 200:\n",
    "    print(response.json())"
   ]
  },
  {
   "cell_type": "code",
   "execution_count": 49,
   "metadata": {},
   "outputs": [
    {
     "name": "stdout",
     "output_type": "stream",
     "text": [
      "Usando imagen en: /home/egp/ejercicios_capacitacion_chelita/ejercicios_JS/tienda-con-bulma/assets/m7.jpg\n",
      "{'id': 22, 'name': 'Conjunto tec', 'price': 650.0, 'category': 'Mujer', 'image': 'https://res.cloudinary.com/dfe12pm1m/image/upload/v1743621811/xylg05q3w3o8vb7s6jdx.jpg'}\n"
     ]
    }
   ],
   "source": [
    "# POST para Producto\n",
    "\n",
    "# Obtener la ruta absoluta de la imagen\n",
    "image_filename = \"m7.jpg\"  # Nombre del archivo\n",
    "image_folder = os.path.abspath(os.path.join(\"../../ejercicios_JS/tienda-con-bulma/\", \"assets\"))  # Ruta de la carpeta de imágenes\n",
    "image_path = os.path.join(image_folder, image_filename)  # Ruta completa\n",
    "\n",
    "# Verificar si la imagen existe antes de abrirla\n",
    "if not os.path.exists(image_path):\n",
    "    raise FileNotFoundError(f\"La imagen '{image_path}' no existe. Verifica la ruta.\")\n",
    "\n",
    "product_data = {\n",
    "    \"name\": \"Conjunto tec\",\n",
    "    \"price\": 650,\n",
    "    \"category\": \"Mujer\"\n",
    "}\n",
    "\n",
    "# Imprimir ruta de la imagen para depuración\n",
    "print(f\"Usando imagen en: {image_path}\")\n",
    "\n",
    "with open(image_path, \"rb\") as image_file:\n",
    "    files = {\"file\": image_file}\n",
    "    response = requests.post(\"http://localhost:8001/products/\", data=product_data, files=files)\n",
    "\n",
    "if response.status_code == 200:\n",
    "    print(response.json())"
   ]
  },
  {
   "cell_type": "code",
   "execution_count": 50,
   "metadata": {},
   "outputs": [
    {
     "name": "stdout",
     "output_type": "stream",
     "text": [
      "Usando imagen en: /home/egp/ejercicios_capacitacion_chelita/ejercicios_JS/tienda-con-bulma/assets/m8.jpg\n",
      "{'id': 23, 'name': 'Blusa de Lino', 'price': 700.0, 'category': 'Mujer', 'image': 'https://res.cloudinary.com/dfe12pm1m/image/upload/v1743621834/tusulyrcaimsdyrd22ib.jpg'}\n"
     ]
    }
   ],
   "source": [
    "# POST para Producto\n",
    "\n",
    "# Obtener la ruta absoluta de la imagen\n",
    "image_filename = \"m8.jpg\"  # Nombre del archivo\n",
    "image_folder = os.path.abspath(os.path.join(\"../../ejercicios_JS/tienda-con-bulma/\", \"assets\"))  # Ruta de la carpeta de imágenes\n",
    "image_path = os.path.join(image_folder, image_filename)  # Ruta completa\n",
    "\n",
    "# Verificar si la imagen existe antes de abrirla\n",
    "if not os.path.exists(image_path):\n",
    "    raise FileNotFoundError(f\"La imagen '{image_path}' no existe. Verifica la ruta.\")\n",
    "\n",
    "product_data = {\n",
    "    \"name\": \"Blusa de Lino\",\n",
    "    \"price\": 700,\n",
    "    \"category\": \"Mujer\"\n",
    "}\n",
    "\n",
    "# Imprimir ruta de la imagen para depuración\n",
    "print(f\"Usando imagen en: {image_path}\")\n",
    "\n",
    "with open(image_path, \"rb\") as image_file:\n",
    "    files = {\"file\": image_file}\n",
    "    response = requests.post(\"http://localhost:8001/products/\", data=product_data, files=files)\n",
    "\n",
    "if response.status_code == 200:\n",
    "    print(response.json())"
   ]
  },
  {
   "cell_type": "code",
   "execution_count": 51,
   "metadata": {},
   "outputs": [
    {
     "name": "stdout",
     "output_type": "stream",
     "text": [
      "Usando imagen en: /home/egp/ejercicios_capacitacion_chelita/ejercicios_JS/tienda-con-bulma/assets/m9.jpg\n",
      "{'id': 24, 'name': 'Botas largas black', 'price': 850.0, 'category': 'Mujer', 'image': 'https://res.cloudinary.com/dfe12pm1m/image/upload/v1743621859/zw5q12khrgiolh52mfpx.jpg'}\n"
     ]
    }
   ],
   "source": [
    "# POST para Producto\n",
    "\n",
    "# Obtener la ruta absoluta de la imagen\n",
    "image_filename = \"m9.jpg\"  # Nombre del archivo\n",
    "image_folder = os.path.abspath(os.path.join(\"../../ejercicios_JS/tienda-con-bulma/\", \"assets\"))  # Ruta de la carpeta de imágenes\n",
    "image_path = os.path.join(image_folder, image_filename)  # Ruta completa\n",
    "\n",
    "# Verificar si la imagen existe antes de abrirla\n",
    "if not os.path.exists(image_path):\n",
    "    raise FileNotFoundError(f\"La imagen '{image_path}' no existe. Verifica la ruta.\")\n",
    "\n",
    "product_data = {\n",
    "    \"name\": \"Botas largas black\",\n",
    "    \"price\": 850,\n",
    "    \"category\": \"Mujer\"\n",
    "}\n",
    "\n",
    "# Imprimir ruta de la imagen para depuración\n",
    "print(f\"Usando imagen en: {image_path}\")\n",
    "\n",
    "with open(image_path, \"rb\") as image_file:\n",
    "    files = {\"file\": image_file}\n",
    "    response = requests.post(\"http://localhost:8001/products/\", data=product_data, files=files)\n",
    "\n",
    "if response.status_code == 200:\n",
    "    print(response.json())"
   ]
  },
  {
   "cell_type": "code",
   "execution_count": 52,
   "metadata": {},
   "outputs": [
    {
     "name": "stdout",
     "output_type": "stream",
     "text": [
      "Usando imagen en: /home/egp/ejercicios_capacitacion_chelita/ejercicios_JS/tienda-con-bulma/assets/m10.jpg\n",
      "{'id': 25, 'name': 'Falda de Lana', 'price': 1000.0, 'category': 'Mujer', 'image': 'https://res.cloudinary.com/dfe12pm1m/image/upload/v1743621879/nosabiyqjd4xtyrkcmbf.jpg'}\n"
     ]
    }
   ],
   "source": [
    "# POST para Producto\n",
    "\n",
    "# Obtener la ruta absoluta de la imagen\n",
    "image_filename = \"m10.jpg\"  # Nombre del archivo\n",
    "image_folder = os.path.abspath(os.path.join(\"../../ejercicios_JS/tienda-con-bulma/\", \"assets\"))  # Ruta de la carpeta de imágenes\n",
    "image_path = os.path.join(image_folder, image_filename)  # Ruta completa\n",
    "\n",
    "# Verificar si la imagen existe antes de abrirla\n",
    "if not os.path.exists(image_path):\n",
    "    raise FileNotFoundError(f\"La imagen '{image_path}' no existe. Verifica la ruta.\")\n",
    "\n",
    "product_data = {\n",
    "    \"name\": \"Falda de Lana\",\n",
    "    \"price\": 1000,\n",
    "    \"category\": \"Mujer\"\n",
    "}\n",
    "\n",
    "# Imprimir ruta de la imagen para depuración\n",
    "print(f\"Usando imagen en: {image_path}\")\n",
    "\n",
    "with open(image_path, \"rb\") as image_file:\n",
    "    files = {\"file\": image_file}\n",
    "    response = requests.post(\"http://localhost:8001/products/\", data=product_data, files=files)\n",
    "\n",
    "if response.status_code == 200:\n",
    "    print(response.json())"
   ]
  },
  {
   "cell_type": "code",
   "execution_count": 53,
   "metadata": {},
   "outputs": [
    {
     "name": "stdout",
     "output_type": "stream",
     "text": [
      "Usando imagen en: /home/egp/ejercicios_capacitacion_chelita/ejercicios_JS/tienda-con-bulma/assets/m11.jpg\n",
      "{'id': 26, 'name': 'Falda de corte Alto', 'price': 550.0, 'category': 'Mujer', 'image': 'https://res.cloudinary.com/dfe12pm1m/image/upload/v1743621901/uobxb7gdx9aosy8xuo1l.jpg'}\n"
     ]
    }
   ],
   "source": [
    "# POST para Producto\n",
    "\n",
    "# Obtener la ruta absoluta de la imagen\n",
    "image_filename = \"m11.jpg\"  # Nombre del archivo\n",
    "image_folder = os.path.abspath(os.path.join(\"../../ejercicios_JS/tienda-con-bulma/\", \"assets\"))  # Ruta de la carpeta de imágenes\n",
    "image_path = os.path.join(image_folder, image_filename)  # Ruta completa\n",
    "\n",
    "# Verificar si la imagen existe antes de abrirla\n",
    "if not os.path.exists(image_path):\n",
    "    raise FileNotFoundError(f\"La imagen '{image_path}' no existe. Verifica la ruta.\")\n",
    "\n",
    "product_data = {\n",
    "    \"name\": \"Falda de corte Alto\",\n",
    "    \"price\": 550,\n",
    "    \"category\": \"Mujer\"\n",
    "}\n",
    "\n",
    "# Imprimir ruta de la imagen para depuración\n",
    "print(f\"Usando imagen en: {image_path}\")\n",
    "\n",
    "with open(image_path, \"rb\") as image_file:\n",
    "    files = {\"file\": image_file}\n",
    "    response = requests.post(\"http://localhost:8001/products/\", data=product_data, files=files)\n",
    "\n",
    "if response.status_code == 200:\n",
    "    print(response.json())"
   ]
  },
  {
   "cell_type": "code",
   "execution_count": 54,
   "metadata": {},
   "outputs": [
    {
     "name": "stdout",
     "output_type": "stream",
     "text": [
      "Usando imagen en: /home/egp/ejercicios_capacitacion_chelita/ejercicios_JS/tienda-con-bulma/assets/m12.jpg\n",
      "{'id': 27, 'name': 'Pantalón Palazzo', 'price': 750.0, 'category': 'Mujer', 'image': 'https://res.cloudinary.com/dfe12pm1m/image/upload/v1743621929/pjxzpd6xn5gxn92oo65s.jpg'}\n"
     ]
    }
   ],
   "source": [
    "# POST para Producto\n",
    "\n",
    "# Obtener la ruta absoluta de la imagen\n",
    "image_filename = \"m12.jpg\"  # Nombre del archivo\n",
    "image_folder = os.path.abspath(os.path.join(\"../../ejercicios_JS/tienda-con-bulma/\", \"assets\"))  # Ruta de la carpeta de imágenes\n",
    "image_path = os.path.join(image_folder, image_filename)  # Ruta completa\n",
    "\n",
    "# Verificar si la imagen existe antes de abrirla\n",
    "if not os.path.exists(image_path):\n",
    "    raise FileNotFoundError(f\"La imagen '{image_path}' no existe. Verifica la ruta.\")\n",
    "\n",
    "product_data = {\n",
    "    \"name\": \"Pantalón Palazzo\",\n",
    "    \"price\": 750,\n",
    "    \"category\": \"Mujer\"\n",
    "}\n",
    "\n",
    "# Imprimir ruta de la imagen para depuración\n",
    "print(f\"Usando imagen en: {image_path}\")\n",
    "\n",
    "with open(image_path, \"rb\") as image_file:\n",
    "    files = {\"file\": image_file}\n",
    "    response = requests.post(\"http://localhost:8001/products/\", data=product_data, files=files)\n",
    "\n",
    "if response.status_code == 200:\n",
    "    print(response.json())"
   ]
  },
  {
   "cell_type": "code",
   "execution_count": 55,
   "metadata": {},
   "outputs": [
    {
     "name": "stdout",
     "output_type": "stream",
     "text": [
      "Usando imagen en: /home/egp/ejercicios_capacitacion_chelita/ejercicios_JS/tienda-con-bulma/assets/m13.jpg\n",
      "{'id': 28, 'name': 'Top Corto', 'price': 400.0, 'category': 'Mujer', 'image': 'https://res.cloudinary.com/dfe12pm1m/image/upload/v1743621951/pnfcfplaqstveiz7jbrh.jpg'}\n"
     ]
    }
   ],
   "source": [
    "# POST para Producto\n",
    "\n",
    "# Obtener la ruta absoluta de la imagen\n",
    "image_filename = \"m13.jpg\"  # Nombre del archivo\n",
    "image_folder = os.path.abspath(os.path.join(\"../../ejercicios_JS/tienda-con-bulma/\", \"assets\"))  # Ruta de la carpeta de imágenes\n",
    "image_path = os.path.join(image_folder, image_filename)  # Ruta completa\n",
    "\n",
    "# Verificar si la imagen existe antes de abrirla\n",
    "if not os.path.exists(image_path):\n",
    "    raise FileNotFoundError(f\"La imagen '{image_path}' no existe. Verifica la ruta.\")\n",
    "\n",
    "product_data = {\n",
    "    \"name\": \"Top Corto\",\n",
    "    \"price\": 400,\n",
    "    \"category\": \"Mujer\"\n",
    "}\n",
    "\n",
    "# Imprimir ruta de la imagen para depuración\n",
    "print(f\"Usando imagen en: {image_path}\")\n",
    "\n",
    "with open(image_path, \"rb\") as image_file:\n",
    "    files = {\"file\": image_file}\n",
    "    response = requests.post(\"http://localhost:8001/products/\", data=product_data, files=files)\n",
    "\n",
    "if response.status_code == 200:\n",
    "    print(response.json())"
   ]
  },
  {
   "cell_type": "code",
   "execution_count": 56,
   "metadata": {},
   "outputs": [
    {
     "name": "stdout",
     "output_type": "stream",
     "text": [
      "Usando imagen en: /home/egp/ejercicios_capacitacion_chelita/ejercicios_JS/tienda-con-bulma/assets/m14.jpg\n",
      "{'id': 29, 'name': 'Chaleco de Lana', 'price': 950.0, 'category': 'Mujer', 'image': 'https://res.cloudinary.com/dfe12pm1m/image/upload/v1743621973/pyqunr1wpdquc2dih89i.jpg'}\n"
     ]
    }
   ],
   "source": [
    "# POST para Producto\n",
    "\n",
    "# Obtener la ruta absoluta de la imagen\n",
    "image_filename = \"m14.jpg\"  # Nombre del archivo\n",
    "image_folder = os.path.abspath(os.path.join(\"../../ejercicios_JS/tienda-con-bulma/\", \"assets\"))  # Ruta de la carpeta de imágenes\n",
    "image_path = os.path.join(image_folder, image_filename)  # Ruta completa\n",
    "\n",
    "# Verificar si la imagen existe antes de abrirla\n",
    "if not os.path.exists(image_path):\n",
    "    raise FileNotFoundError(f\"La imagen '{image_path}' no existe. Verifica la ruta.\")\n",
    "\n",
    "product_data = {\n",
    "    \"name\": \"Chaleco de Lana\",\n",
    "    \"price\": 950,\n",
    "    \"category\": \"Mujer\"\n",
    "}\n",
    "\n",
    "# Imprimir ruta de la imagen para depuración\n",
    "print(f\"Usando imagen en: {image_path}\")\n",
    "\n",
    "with open(image_path, \"rb\") as image_file:\n",
    "    files = {\"file\": image_file}\n",
    "    response = requests.post(\"http://localhost:8001/products/\", data=product_data, files=files)\n",
    "\n",
    "if response.status_code == 200:\n",
    "    print(response.json())"
   ]
  },
  {
   "cell_type": "code",
   "execution_count": 57,
   "metadata": {},
   "outputs": [
    {
     "name": "stdout",
     "output_type": "stream",
     "text": [
      "Usando imagen en: /home/egp/ejercicios_capacitacion_chelita/ejercicios_JS/tienda-con-bulma/assets/m15.jpg\n",
      "{'id': 30, 'name': 'Pantalones de Cuero', 'price': 800.0, 'category': 'Mujer', 'image': 'https://res.cloudinary.com/dfe12pm1m/image/upload/v1743622001/igqyuousuwn8skjktvq9.jpg'}\n"
     ]
    }
   ],
   "source": [
    "# POST para Producto\n",
    "\n",
    "# Obtener la ruta absoluta de la imagen\n",
    "image_filename = \"m15.jpg\"  # Nombre del archivo\n",
    "image_folder = os.path.abspath(os.path.join(\"../../ejercicios_JS/tienda-con-bulma/\", \"assets\"))  # Ruta de la carpeta de imágenes\n",
    "image_path = os.path.join(image_folder, image_filename)  # Ruta completa\n",
    "\n",
    "# Verificar si la imagen existe antes de abrirla\n",
    "if not os.path.exists(image_path):\n",
    "    raise FileNotFoundError(f\"La imagen '{image_path}' no existe. Verifica la ruta.\")\n",
    "\n",
    "product_data = {\n",
    "    \"name\": \"Pantalones de Cuero\",\n",
    "    \"price\": 800,\n",
    "    \"category\": \"Mujer\"\n",
    "}\n",
    "\n",
    "# Imprimir ruta de la imagen para depuración\n",
    "print(f\"Usando imagen en: {image_path}\")\n",
    "\n",
    "with open(image_path, \"rb\") as image_file:\n",
    "    files = {\"file\": image_file}\n",
    "    response = requests.post(\"http://localhost:8001/products/\", data=product_data, files=files)\n",
    "\n",
    "if response.status_code == 200:\n",
    "    print(response.json())"
   ]
  },
  {
   "cell_type": "code",
   "execution_count": null,
   "metadata": {},
   "outputs": [],
   "source": [
    "# GET para Productos hombre\n",
    "\n",
    "import requests\n",
    "# Obtener todos los productos\n",
    "response = requests.get(\"http://localhost:8001/products/hombre\")\n",
    "print(response.status_code)\n",
    "print(response.text)\n",
    "if response.status_code == 200:\n",
    "    products = response.json()\n",
    "    print(products)"
   ]
  },
  {
   "cell_type": "code",
   "execution_count": null,
   "metadata": {},
   "outputs": [],
   "source": [
    "# GET para Productos mujer\n",
    "\n",
    "response = requests.get(\"http://localhost:8001/products/mujer\")\n",
    "print(response.status_code)\n",
    "print(response.text)\n",
    "if response.status_code == 200:\n",
    "    products = response.json()\n",
    "    print(products)"
   ]
  },
  {
   "cell_type": "code",
   "execution_count": null,
   "metadata": {},
   "outputs": [],
   "source": [
    "# GET para productos,hombres.\n",
    "\n",
    "#Conseguir productos por medio de una palabra y una categoria.\n",
    "\n",
    "# Obtener producto por id\n",
    "response = requests.get(\"http://localhost:8001/products/search/hombre/?search=cam\")\n",
    "print(response.status_code)\n",
    "print(response.text)\n"
   ]
  },
  {
   "cell_type": "code",
   "execution_count": null,
   "metadata": {},
   "outputs": [],
   "source": [
    "# GET para productos, mujeres.\n",
    "\n",
    "#Conseguir productos por medio de una palabra y una categoria.\n",
    "\n",
    "# Obtener producto por id\n",
    "response = requests.get(\"http://localhost:8001/products/search/mujer/?search=\")\n",
    "print(response.status_code)\n",
    "print(response.text)\n"
   ]
  },
  {
   "cell_type": "code",
   "execution_count": null,
   "metadata": {},
   "outputs": [],
   "source": [
    "# GET para Producto\n",
    "\n",
    "# Obtener producto por id\n",
    "response = requests.get(\"http://localhost:8001/products/1\")\n",
    "print(response.status_code)\n",
    "print(response.text)"
   ]
  },
  {
   "cell_type": "code",
   "execution_count": null,
   "metadata": {},
   "outputs": [],
   "source": [
    "# DELETE para Producto\n",
    "\n",
    "#Elimitar producto por id\n",
    "response = requests.delete(\"http://localhost:8001/products/1\")\n",
    "print(response.status_code)\n",
    "print(response.text)"
   ]
  },
  {
   "cell_type": "code",
   "execution_count": null,
   "metadata": {},
   "outputs": [],
   "source": [
    "# PUT para Producto\n",
    "\n",
    "# Obtener la ruta absoluta de la imagen\n",
    "image_filename = \"m7.jpg\"  # Nombre del archivo\n",
    "image_folder = os.path.abspath(os.path.join(\"../../ejercicios_JS/tienda-con-bulma/\", \"assets\"))  # Ruta de la carpeta de imágenes\n",
    "image_path = os.path.join(image_folder, image_filename)  # Ruta completa\n",
    "\n",
    "# Verificar si la imagen existe antes de abrirla\n",
    "if not os.path.exists(image_path):\n",
    "    raise FileNotFoundError(f\"La imagen '{image_path}' no existe. Verifica la ruta.\")\n",
    "\n",
    "product_data = {\n",
    "    \"id\": 2,\n",
    "    \"name\": \"Camisa Trex NUEVA\",\n",
    "    \"price\": 50,\n",
    "    \"category\": \"Mujer\"\n",
    "}\n",
    "\n",
    "# Imprimir ruta de la imagen para depuración\n",
    "print(f\"Usando imagen en: {image_path}\")\n",
    "\n",
    "with open(image_path, \"rb\") as image_file:\n",
    "    files = {\"file\": image_file}\n",
    "    response = requests.put(\"http://localhost:8001/products/\", data=product_data, files=files)\n",
    "\n",
    "if response.status_code == 200:\n",
    "    print(response.json())"
   ]
  },
  {
   "cell_type": "code",
   "execution_count": null,
   "metadata": {},
   "outputs": [],
   "source": [
    "# PATCH para Producto, solo la IMAGEN\n",
    "\n",
    "# Obtener la ruta absoluta de la imagen\n",
    "image_filename = \"h1.jpg\"  # Nombre del archivo\n",
    "image_folder = os.path.abspath(os.path.join(\"../../ejercicios_JS/tienda-con-bulma/\",\"assets\"))  # Ruta de la carpeta de imágenes\n",
    "image_path = os.path.join(image_folder, image_filename)  # Ruta completa\n",
    "\n",
    "# Verificar si la imagen existe antes de abrirla\n",
    "if not os.path.exists(image_path):\n",
    "    raise FileNotFoundError(f\"La imagen '{image_path}' no existe. Verifica la ruta.\")\n",
    "\n",
    "# Imprimir ruta de la imagen para depuración\n",
    "print(f\"Usando imagen en: {image_path}\")\n",
    "\n",
    "with open(image_path, \"rb\") as image_file:\n",
    "    files = {\"file\": image_file}\n",
    "    response = requests.patch(\"http://localhost:8001/products/2/image\", files=files)\n",
    "\n",
    "print(response.status_code)\n",
    "print(response.text)\n",
    "if response.status_code == 200:\n",
    "    print(response.json())"
   ]
  },
  {
   "cell_type": "code",
   "execution_count": null,
   "metadata": {},
   "outputs": [],
   "source": [
    "# PATCH para Producto \n",
    "\n",
    "# Aqui en el patch no es necesario en la data mandar todos los datos puedo manadar los que quiera, menos el id\n",
    "# Requieres la data y el id del producto\n",
    "data = {\n",
    "    \"price\": 5000,\n",
    "    \"category\": \"Hombre\"\n",
    "}\n",
    "response = requests.patch(\"http://localhost:8001/products/2\", json=data)\n",
    "print(response.status_code)\n",
    "print(response.text)"
   ]
  }
 ],
 "metadata": {
  "kernelspec": {
   "display_name": "venv",
   "language": "python",
   "name": "python3"
  },
  "language_info": {
   "codemirror_mode": {
    "name": "ipython",
    "version": 3
   },
   "file_extension": ".py",
   "mimetype": "text/x-python",
   "name": "python",
   "nbconvert_exporter": "python",
   "pygments_lexer": "ipython3",
   "version": "3.12.8"
  }
 },
 "nbformat": 4,
 "nbformat_minor": 2
}
