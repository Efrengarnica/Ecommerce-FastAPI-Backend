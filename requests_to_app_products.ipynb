{
 "cells": [
  {
   "cell_type": "code",
   "execution_count": null,
   "metadata": {},
   "outputs": [],
   "source": [
    "# POST para Producto\n",
    "\n",
    "# Haciendo requests a nuestra API\n",
    "import requests\n",
    "product = {\n",
    "    \"name\": \"Chamarra\",\n",
    "    \"price\": 20,\n",
    "    \"category\": \"Hombre\"\n",
    "}\n",
    "response = requests.post(\"http://localhost:8001/products/\", json = product)\n",
    "print(response.status_code)\n",
    "print(response.text)\n",
    "if response.status_code == 200:\n",
    "    print(response.json())"
   ]
  },
  {
   "cell_type": "code",
   "execution_count": null,
   "metadata": {},
   "outputs": [],
   "source": [
    "# GET para Productos\n",
    "\n",
    "# Obtener todos los productos\n",
    "response = requests.get(\"http://localhost:8001/products/\")\n",
    "print(response.status_code)\n",
    "print(response.text)\n",
    "if response.status_code == 200:\n",
    "    products = response.json()\n",
    "    print(products)"
   ]
  },
  {
   "cell_type": "code",
   "execution_count": null,
   "metadata": {},
   "outputs": [],
   "source": [
    "# POST para Productos\n",
    "\n",
    "#Agregar más productos\n",
    "products = [\n",
    "    {\n",
    "    \"name\": \"Pantalon rasgado\",\n",
    "    \"price\": 24,\n",
    "    \"category\": \"Hombre\"\n",
    "    },\n",
    "    {\n",
    "    \"name\": \"Chamarra trex\",\n",
    "    \"price\": 40,\n",
    "    \"category\": \"Mujer\"\n",
    "    }          \n",
    "]\n",
    "for product in products:\n",
    "    response = requests.post(\"http://localhost:8001/products/\", json = product)\n",
    "    print(response.status_code)\n",
    "    print(response.json())"
   ]
  },
  {
   "cell_type": "code",
   "execution_count": null,
   "metadata": {},
   "outputs": [],
   "source": [
    "# GET para Producto\n",
    "\n",
    "# Obtener producto por id\n",
    "response = requests.get(\"http://localhost:8001/products/2\")\n",
    "print(response.status_code)\n",
    "print(response.text)"
   ]
  },
  {
   "cell_type": "code",
   "execution_count": null,
   "metadata": {},
   "outputs": [],
   "source": [
    "# DELETE para Producto\n",
    "\n",
    "#Elimitar producto por id\n",
    "response = requests.delete(\"http://localhost:8001/products/2\")\n",
    "print(response.status_code)\n",
    "print(response.text)"
   ]
  },
  {
   "cell_type": "code",
   "execution_count": null,
   "metadata": {},
   "outputs": [],
   "source": [
    "# PUT para Producto\n",
    "\n",
    "# Updating the product completely\n",
    "# Para esto requieres un producto completo y su id en el endpoint\n",
    "product = {\n",
    "    \"id\": 3,\n",
    "    \"name\": \"Chamarra Trex 2\",\n",
    "    \"price\": 50,\n",
    "    \"category\": \"Hombre\"\n",
    "}\n",
    "response = requests.put(\"http://localhost:8001/products/3\", json = product)\n",
    "print(response.status_code)\n",
    "print(response.text)"
   ]
  },
  {
   "cell_type": "code",
   "execution_count": null,
   "metadata": {},
   "outputs": [],
   "source": [
    "# PATCH para Producto \n",
    "\n",
    "# Aqui en el patch no es necesario en la data mandar todos los datos puedo manadar los que quiera, menos el id\n",
    "# Requieres la data y el id del producto\n",
    "data = {\n",
    "    \"category\": \"Mujer\"\n",
    "}\n",
    "response = requests.patch(\"http://localhost:8001/products/3\", json=data)\n",
    "print(response.status_code)\n",
    "print(response.text)"
   ]
  }
 ],
 "metadata": {
  "kernelspec": {
   "display_name": "Python 3",
   "language": "python",
   "name": "python3"
  },
  "language_info": {
   "codemirror_mode": {
    "name": "ipython",
    "version": 3
   },
   "file_extension": ".py",
   "mimetype": "text/x-python",
   "name": "python",
   "nbconvert_exporter": "python",
   "pygments_lexer": "ipython3",
   "version": "3.12.8"
  }
 },
 "nbformat": 4,
 "nbformat_minor": 2
}
